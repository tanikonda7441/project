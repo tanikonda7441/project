{
  "metadata": {
    "kernelspec": {
      "language": "python",
      "display_name": "Python 3",
      "name": "python3"
    },
    "language_info": {
      "pygments_lexer": "ipython3",
      "nbconvert_exporter": "python",
      "version": "3.6.4",
      "file_extension": ".py",
      "codemirror_mode": {
        "name": "ipython",
        "version": 3
      },
      "name": "python",
      "mimetype": "text/x-python"
    },
    "colab": {
      "provenance": []
    }
  },
  "nbformat_minor": 0,
  "nbformat": 4,
  "cells": [
    {
      "cell_type": "markdown",
      "source": [
        "## <center>Employee Performance Prediction with Machine Learning</center>\n"
      ],
      "metadata": {
        "id": "ka-sl08sU5Gv"
      }
    },
    {
      "cell_type": "code",
      "source": [
        "\n",
        "# for mathematical operations\n",
        "import numpy as np\n",
        "# for dataframe operations\n",
        "import pandas as pd\n",
        "\n",
        "# for data visualizations\n",
        "import seaborn as sns\n",
        "import matplotlib.pyplot as plt\n",
        "\n",
        "# for machine learning\n",
        "import sklearn\n",
        "import imblearn\n",
        "\n",
        "# setting up the size of the figures\n",
        "plt.rcParams['figure.figsize'] = (16, 5)\n",
        "# setting up the style of the plot\n",
        "plt.style.use('fivethirtyeight')"
      ],
      "metadata": {
        "execution": {
          "iopub.status.busy": "2021-09-24T13:21:08.294172Z",
          "iopub.execute_input": "2021-09-24T13:21:08.295077Z",
          "iopub.status.idle": "2021-09-24T13:21:09.966685Z",
          "shell.execute_reply.started": "2021-09-24T13:21:08.294973Z",
          "shell.execute_reply": "2021-09-24T13:21:09.965819Z"
        },
        "trusted": true,
        "id": "oWR9Kmv-U5G3"
      },
      "execution_count": null,
      "outputs": []
    },
    {
      "cell_type": "code",
      "source": [
        "#1.Collecting the data\n",
        "from google.colab import drive\n",
        "drive.mount('/content/drive')\n",
        "\n",
        "train = pd.read_csv('/content/drive/My Drive/Colab Notebooks/employee_performance/train.csv')\n",
        "test = pd.read_csv('/content/drive/My Drive/Colab Notebooks/employee_performance/test.csv')\n",
        "\n"
      ],
      "metadata": {
        "execution": {
          "iopub.status.busy": "2021-09-24T13:21:09.968386Z",
          "iopub.execute_input": "2021-09-24T13:21:09.968621Z",
          "iopub.status.idle": "2021-09-24T13:21:09.973779Z",
          "shell.execute_reply.started": "2021-09-24T13:21:09.968595Z",
          "shell.execute_reply": "2021-09-24T13:21:09.972884Z"
        },
        "trusted": true,
        "colab": {
          "base_uri": "https://localhost:8080/"
        },
        "id": "v6rB_Ky5U5G6",
        "outputId": "1c2a92f5-abe0-4876-f02f-f050d9515a83"
      },
      "execution_count": null,
      "outputs": [
        {
          "output_type": "stream",
          "name": "stdout",
          "text": [
            "Drive already mounted at /content/drive; to attempt to forcibly remount, call drive.mount(\"/content/drive\", force_remount=True).\n"
          ]
        }
      ]
    },
    {
      "cell_type": "markdown",
      "source": [
        "## Examining the Data\n"
      ],
      "metadata": {
        "id": "c7J1sBcaU5G9"
      }
    },
    {
      "cell_type": "code",
      "source": [
        "# lets check the shape of the train and test datasets\n",
        "print(\"Shape of the Training Data :\", train.shape)\n",
        "print(\"Shape of the Test Data :\", test.shape)"
      ],
      "metadata": {
        "execution": {
          "iopub.status.busy": "2021-09-24T13:21:10.228528Z",
          "iopub.execute_input": "2021-09-24T13:21:10.228867Z",
          "iopub.status.idle": "2021-09-24T13:21:10.236961Z",
          "shell.execute_reply.started": "2021-09-24T13:21:10.228825Z",
          "shell.execute_reply": "2021-09-24T13:21:10.235738Z"
        },
        "trusted": true,
        "colab": {
          "base_uri": "https://localhost:8080/"
        },
        "id": "7cqOlaiaU5G9",
        "outputId": "7651757c-28ea-4f2d-f3a5-409d4fe365ec"
      },
      "execution_count": null,
      "outputs": [
        {
          "output_type": "stream",
          "name": "stdout",
          "text": [
            "Shape of the Training Data : (54808, 13)\n",
            "Shape of the Test Data : (23490, 12)\n"
          ]
        }
      ]
    },
    {
      "cell_type": "code",
      "source": [
        "# columns in Training Data\n",
        "train.columns"
      ],
      "metadata": {
        "execution": {
          "iopub.status.busy": "2021-09-24T13:21:10.23856Z",
          "iopub.execute_input": "2021-09-24T13:21:10.238934Z",
          "iopub.status.idle": "2021-09-24T13:21:10.255982Z",
          "shell.execute_reply.started": "2021-09-24T13:21:10.238886Z",
          "shell.execute_reply": "2021-09-24T13:21:10.25506Z"
        },
        "trusted": true,
        "colab": {
          "base_uri": "https://localhost:8080/"
        },
        "id": "yth6g18wU5G-",
        "outputId": "4b2a95cf-9a4e-42ee-e53d-5be97eef9086"
      },
      "execution_count": null,
      "outputs": [
        {
          "output_type": "execute_result",
          "data": {
            "text/plain": [
              "Index(['employee_id', 'department', 'region', 'education', 'gender',\n",
              "       'recruitment_channel', 'no_of_trainings', 'age', 'previous_year_rating',\n",
              "       'length_of_service', 'awards_won?', 'avg_training_score',\n",
              "       'is_promoted'],\n",
              "      dtype='object')"
            ]
          },
          "metadata": {},
          "execution_count": 148
        }
      ]
    },
    {
      "cell_type": "code",
      "source": [
        "# columns in Testing Data\n",
        "test.columns"
      ],
      "metadata": {
        "execution": {
          "iopub.status.busy": "2021-09-24T13:21:10.257499Z",
          "iopub.execute_input": "2021-09-24T13:21:10.257722Z",
          "iopub.status.idle": "2021-09-24T13:21:10.273758Z",
          "shell.execute_reply.started": "2021-09-24T13:21:10.257697Z",
          "shell.execute_reply": "2021-09-24T13:21:10.272638Z"
        },
        "trusted": true,
        "colab": {
          "base_uri": "https://localhost:8080/"
        },
        "id": "2drGQabyU5G_",
        "outputId": "3015640e-4a8d-461c-bdc4-ca0b5e45868c"
      },
      "execution_count": null,
      "outputs": [
        {
          "output_type": "execute_result",
          "data": {
            "text/plain": [
              "Index(['employee_id', 'department', 'region', 'education', 'gender',\n",
              "       'recruitment_channel', 'no_of_trainings', 'age', 'previous_year_rating',\n",
              "       'length_of_service', 'awards_won?', 'avg_training_score'],\n",
              "      dtype='object')"
            ]
          },
          "metadata": {},
          "execution_count": 149
        }
      ]
    },
    {
      "cell_type": "code",
      "source": [
        "# lets check the head of the dataset\n",
        "train.head()"
      ],
      "metadata": {
        "execution": {
          "iopub.status.busy": "2021-09-24T13:21:10.275487Z",
          "iopub.execute_input": "2021-09-24T13:21:10.275754Z",
          "iopub.status.idle": "2021-09-24T13:21:10.306145Z",
          "shell.execute_reply.started": "2021-09-24T13:21:10.275723Z",
          "shell.execute_reply": "2021-09-24T13:21:10.30516Z"
        },
        "trusted": true,
        "colab": {
          "base_uri": "https://localhost:8080/",
          "height": 322
        },
        "id": "5Cg8xeqmU5G_",
        "outputId": "64dfeb3a-c365-4964-c060-1c5bc00032d2"
      },
      "execution_count": null,
      "outputs": [
        {
          "output_type": "execute_result",
          "data": {
            "text/plain": [
              "   employee_id         department     region         education gender  \\\n",
              "0        65438  Sales & Marketing   region_7  Master's & above      f   \n",
              "1        65141         Operations  region_22        Bachelor's      m   \n",
              "2         7513  Sales & Marketing  region_19        Bachelor's      m   \n",
              "3         2542  Sales & Marketing  region_23        Bachelor's      m   \n",
              "4        48945         Technology  region_26        Bachelor's      m   \n",
              "\n",
              "  recruitment_channel  no_of_trainings  age  previous_year_rating  \\\n",
              "0            sourcing                1   35                   5.0   \n",
              "1               other                1   30                   5.0   \n",
              "2            sourcing                1   34                   3.0   \n",
              "3               other                2   39                   1.0   \n",
              "4               other                1   45                   3.0   \n",
              "\n",
              "   length_of_service  awards_won?  avg_training_score  is_promoted  \n",
              "0                  8            0                  49            0  \n",
              "1                  4            0                  60            0  \n",
              "2                  7            0                  50            0  \n",
              "3                 10            0                  50            0  \n",
              "4                  2            0                  73            0  "
            ],
            "text/html": [
              "\n",
              "  <div id=\"df-df52dc68-4db7-4b3b-b33b-64065e93005d\">\n",
              "    <div class=\"colab-df-container\">\n",
              "      <div>\n",
              "<style scoped>\n",
              "    .dataframe tbody tr th:only-of-type {\n",
              "        vertical-align: middle;\n",
              "    }\n",
              "\n",
              "    .dataframe tbody tr th {\n",
              "        vertical-align: top;\n",
              "    }\n",
              "\n",
              "    .dataframe thead th {\n",
              "        text-align: right;\n",
              "    }\n",
              "</style>\n",
              "<table border=\"1\" class=\"dataframe\">\n",
              "  <thead>\n",
              "    <tr style=\"text-align: right;\">\n",
              "      <th></th>\n",
              "      <th>employee_id</th>\n",
              "      <th>department</th>\n",
              "      <th>region</th>\n",
              "      <th>education</th>\n",
              "      <th>gender</th>\n",
              "      <th>recruitment_channel</th>\n",
              "      <th>no_of_trainings</th>\n",
              "      <th>age</th>\n",
              "      <th>previous_year_rating</th>\n",
              "      <th>length_of_service</th>\n",
              "      <th>awards_won?</th>\n",
              "      <th>avg_training_score</th>\n",
              "      <th>is_promoted</th>\n",
              "    </tr>\n",
              "  </thead>\n",
              "  <tbody>\n",
              "    <tr>\n",
              "      <th>0</th>\n",
              "      <td>65438</td>\n",
              "      <td>Sales &amp; Marketing</td>\n",
              "      <td>region_7</td>\n",
              "      <td>Master's &amp; above</td>\n",
              "      <td>f</td>\n",
              "      <td>sourcing</td>\n",
              "      <td>1</td>\n",
              "      <td>35</td>\n",
              "      <td>5.0</td>\n",
              "      <td>8</td>\n",
              "      <td>0</td>\n",
              "      <td>49</td>\n",
              "      <td>0</td>\n",
              "    </tr>\n",
              "    <tr>\n",
              "      <th>1</th>\n",
              "      <td>65141</td>\n",
              "      <td>Operations</td>\n",
              "      <td>region_22</td>\n",
              "      <td>Bachelor's</td>\n",
              "      <td>m</td>\n",
              "      <td>other</td>\n",
              "      <td>1</td>\n",
              "      <td>30</td>\n",
              "      <td>5.0</td>\n",
              "      <td>4</td>\n",
              "      <td>0</td>\n",
              "      <td>60</td>\n",
              "      <td>0</td>\n",
              "    </tr>\n",
              "    <tr>\n",
              "      <th>2</th>\n",
              "      <td>7513</td>\n",
              "      <td>Sales &amp; Marketing</td>\n",
              "      <td>region_19</td>\n",
              "      <td>Bachelor's</td>\n",
              "      <td>m</td>\n",
              "      <td>sourcing</td>\n",
              "      <td>1</td>\n",
              "      <td>34</td>\n",
              "      <td>3.0</td>\n",
              "      <td>7</td>\n",
              "      <td>0</td>\n",
              "      <td>50</td>\n",
              "      <td>0</td>\n",
              "    </tr>\n",
              "    <tr>\n",
              "      <th>3</th>\n",
              "      <td>2542</td>\n",
              "      <td>Sales &amp; Marketing</td>\n",
              "      <td>region_23</td>\n",
              "      <td>Bachelor's</td>\n",
              "      <td>m</td>\n",
              "      <td>other</td>\n",
              "      <td>2</td>\n",
              "      <td>39</td>\n",
              "      <td>1.0</td>\n",
              "      <td>10</td>\n",
              "      <td>0</td>\n",
              "      <td>50</td>\n",
              "      <td>0</td>\n",
              "    </tr>\n",
              "    <tr>\n",
              "      <th>4</th>\n",
              "      <td>48945</td>\n",
              "      <td>Technology</td>\n",
              "      <td>region_26</td>\n",
              "      <td>Bachelor's</td>\n",
              "      <td>m</td>\n",
              "      <td>other</td>\n",
              "      <td>1</td>\n",
              "      <td>45</td>\n",
              "      <td>3.0</td>\n",
              "      <td>2</td>\n",
              "      <td>0</td>\n",
              "      <td>73</td>\n",
              "      <td>0</td>\n",
              "    </tr>\n",
              "  </tbody>\n",
              "</table>\n",
              "</div>\n",
              "      <button class=\"colab-df-convert\" onclick=\"convertToInteractive('df-df52dc68-4db7-4b3b-b33b-64065e93005d')\"\n",
              "              title=\"Convert this dataframe to an interactive table.\"\n",
              "              style=\"display:none;\">\n",
              "        \n",
              "  <svg xmlns=\"http://www.w3.org/2000/svg\" height=\"24px\"viewBox=\"0 0 24 24\"\n",
              "       width=\"24px\">\n",
              "    <path d=\"M0 0h24v24H0V0z\" fill=\"none\"/>\n",
              "    <path d=\"M18.56 5.44l.94 2.06.94-2.06 2.06-.94-2.06-.94-.94-2.06-.94 2.06-2.06.94zm-11 1L8.5 8.5l.94-2.06 2.06-.94-2.06-.94L8.5 2.5l-.94 2.06-2.06.94zm10 10l.94 2.06.94-2.06 2.06-.94-2.06-.94-.94-2.06-.94 2.06-2.06.94z\"/><path d=\"M17.41 7.96l-1.37-1.37c-.4-.4-.92-.59-1.43-.59-.52 0-1.04.2-1.43.59L10.3 9.45l-7.72 7.72c-.78.78-.78 2.05 0 2.83L4 21.41c.39.39.9.59 1.41.59.51 0 1.02-.2 1.41-.59l7.78-7.78 2.81-2.81c.8-.78.8-2.07 0-2.86zM5.41 20L4 18.59l7.72-7.72 1.47 1.35L5.41 20z\"/>\n",
              "  </svg>\n",
              "      </button>\n",
              "      \n",
              "  <style>\n",
              "    .colab-df-container {\n",
              "      display:flex;\n",
              "      flex-wrap:wrap;\n",
              "      gap: 12px;\n",
              "    }\n",
              "\n",
              "    .colab-df-convert {\n",
              "      background-color: #E8F0FE;\n",
              "      border: none;\n",
              "      border-radius: 50%;\n",
              "      cursor: pointer;\n",
              "      display: none;\n",
              "      fill: #1967D2;\n",
              "      height: 32px;\n",
              "      padding: 0 0 0 0;\n",
              "      width: 32px;\n",
              "    }\n",
              "\n",
              "    .colab-df-convert:hover {\n",
              "      background-color: #E2EBFA;\n",
              "      box-shadow: 0px 1px 2px rgba(60, 64, 67, 0.3), 0px 1px 3px 1px rgba(60, 64, 67, 0.15);\n",
              "      fill: #174EA6;\n",
              "    }\n",
              "\n",
              "    [theme=dark] .colab-df-convert {\n",
              "      background-color: #3B4455;\n",
              "      fill: #D2E3FC;\n",
              "    }\n",
              "\n",
              "    [theme=dark] .colab-df-convert:hover {\n",
              "      background-color: #434B5C;\n",
              "      box-shadow: 0px 1px 3px 1px rgba(0, 0, 0, 0.15);\n",
              "      filter: drop-shadow(0px 1px 2px rgba(0, 0, 0, 0.3));\n",
              "      fill: #FFFFFF;\n",
              "    }\n",
              "  </style>\n",
              "\n",
              "      <script>\n",
              "        const buttonEl =\n",
              "          document.querySelector('#df-df52dc68-4db7-4b3b-b33b-64065e93005d button.colab-df-convert');\n",
              "        buttonEl.style.display =\n",
              "          google.colab.kernel.accessAllowed ? 'block' : 'none';\n",
              "\n",
              "        async function convertToInteractive(key) {\n",
              "          const element = document.querySelector('#df-df52dc68-4db7-4b3b-b33b-64065e93005d');\n",
              "          const dataTable =\n",
              "            await google.colab.kernel.invokeFunction('convertToInteractive',\n",
              "                                                     [key], {});\n",
              "          if (!dataTable) return;\n",
              "\n",
              "          const docLinkHtml = 'Like what you see? Visit the ' +\n",
              "            '<a target=\"_blank\" href=https://colab.research.google.com/notebooks/data_table.ipynb>data table notebook</a>'\n",
              "            + ' to learn more about interactive tables.';\n",
              "          element.innerHTML = '';\n",
              "          dataTable['output_type'] = 'display_data';\n",
              "          await google.colab.output.renderOutput(dataTable, element);\n",
              "          const docLink = document.createElement('div');\n",
              "          docLink.innerHTML = docLinkHtml;\n",
              "          element.appendChild(docLink);\n",
              "        }\n",
              "      </script>\n",
              "    </div>\n",
              "  </div>\n",
              "  "
            ]
          },
          "metadata": {},
          "execution_count": 150
        }
      ]
    },
    {
      "cell_type": "code",
      "source": [
        "# lets check the head of the test data\n",
        "test.head()"
      ],
      "metadata": {
        "execution": {
          "iopub.status.busy": "2021-09-24T13:21:10.307986Z",
          "iopub.execute_input": "2021-09-24T13:21:10.308692Z",
          "iopub.status.idle": "2021-09-24T13:21:10.324329Z",
          "shell.execute_reply.started": "2021-09-24T13:21:10.308646Z",
          "shell.execute_reply": "2021-09-24T13:21:10.323488Z"
        },
        "trusted": true,
        "colab": {
          "base_uri": "https://localhost:8080/",
          "height": 288
        },
        "id": "mCbszNeGU5HA",
        "outputId": "247970df-15df-4f41-f20f-9391e89b40d0"
      },
      "execution_count": null,
      "outputs": [
        {
          "output_type": "execute_result",
          "data": {
            "text/plain": [
              "   employee_id         department     region   education gender  \\\n",
              "0         8724         Technology  region_26  Bachelor's      m   \n",
              "1        74430                 HR   region_4  Bachelor's      f   \n",
              "2        72255  Sales & Marketing  region_13  Bachelor's      m   \n",
              "3        38562        Procurement   region_2  Bachelor's      f   \n",
              "4        64486            Finance  region_29  Bachelor's      m   \n",
              "\n",
              "  recruitment_channel  no_of_trainings  age  previous_year_rating  \\\n",
              "0            sourcing                1   24                   NaN   \n",
              "1               other                1   31                   3.0   \n",
              "2               other                1   31                   1.0   \n",
              "3               other                3   31                   2.0   \n",
              "4            sourcing                1   30                   4.0   \n",
              "\n",
              "   length_of_service  awards_won?  avg_training_score  \n",
              "0                  1            0                  77  \n",
              "1                  5            0                  51  \n",
              "2                  4            0                  47  \n",
              "3                  9            0                  65  \n",
              "4                  7            0                  61  "
            ],
            "text/html": [
              "\n",
              "  <div id=\"df-60a368de-4e20-4974-8b29-54d722276ead\">\n",
              "    <div class=\"colab-df-container\">\n",
              "      <div>\n",
              "<style scoped>\n",
              "    .dataframe tbody tr th:only-of-type {\n",
              "        vertical-align: middle;\n",
              "    }\n",
              "\n",
              "    .dataframe tbody tr th {\n",
              "        vertical-align: top;\n",
              "    }\n",
              "\n",
              "    .dataframe thead th {\n",
              "        text-align: right;\n",
              "    }\n",
              "</style>\n",
              "<table border=\"1\" class=\"dataframe\">\n",
              "  <thead>\n",
              "    <tr style=\"text-align: right;\">\n",
              "      <th></th>\n",
              "      <th>employee_id</th>\n",
              "      <th>department</th>\n",
              "      <th>region</th>\n",
              "      <th>education</th>\n",
              "      <th>gender</th>\n",
              "      <th>recruitment_channel</th>\n",
              "      <th>no_of_trainings</th>\n",
              "      <th>age</th>\n",
              "      <th>previous_year_rating</th>\n",
              "      <th>length_of_service</th>\n",
              "      <th>awards_won?</th>\n",
              "      <th>avg_training_score</th>\n",
              "    </tr>\n",
              "  </thead>\n",
              "  <tbody>\n",
              "    <tr>\n",
              "      <th>0</th>\n",
              "      <td>8724</td>\n",
              "      <td>Technology</td>\n",
              "      <td>region_26</td>\n",
              "      <td>Bachelor's</td>\n",
              "      <td>m</td>\n",
              "      <td>sourcing</td>\n",
              "      <td>1</td>\n",
              "      <td>24</td>\n",
              "      <td>NaN</td>\n",
              "      <td>1</td>\n",
              "      <td>0</td>\n",
              "      <td>77</td>\n",
              "    </tr>\n",
              "    <tr>\n",
              "      <th>1</th>\n",
              "      <td>74430</td>\n",
              "      <td>HR</td>\n",
              "      <td>region_4</td>\n",
              "      <td>Bachelor's</td>\n",
              "      <td>f</td>\n",
              "      <td>other</td>\n",
              "      <td>1</td>\n",
              "      <td>31</td>\n",
              "      <td>3.0</td>\n",
              "      <td>5</td>\n",
              "      <td>0</td>\n",
              "      <td>51</td>\n",
              "    </tr>\n",
              "    <tr>\n",
              "      <th>2</th>\n",
              "      <td>72255</td>\n",
              "      <td>Sales &amp; Marketing</td>\n",
              "      <td>region_13</td>\n",
              "      <td>Bachelor's</td>\n",
              "      <td>m</td>\n",
              "      <td>other</td>\n",
              "      <td>1</td>\n",
              "      <td>31</td>\n",
              "      <td>1.0</td>\n",
              "      <td>4</td>\n",
              "      <td>0</td>\n",
              "      <td>47</td>\n",
              "    </tr>\n",
              "    <tr>\n",
              "      <th>3</th>\n",
              "      <td>38562</td>\n",
              "      <td>Procurement</td>\n",
              "      <td>region_2</td>\n",
              "      <td>Bachelor's</td>\n",
              "      <td>f</td>\n",
              "      <td>other</td>\n",
              "      <td>3</td>\n",
              "      <td>31</td>\n",
              "      <td>2.0</td>\n",
              "      <td>9</td>\n",
              "      <td>0</td>\n",
              "      <td>65</td>\n",
              "    </tr>\n",
              "    <tr>\n",
              "      <th>4</th>\n",
              "      <td>64486</td>\n",
              "      <td>Finance</td>\n",
              "      <td>region_29</td>\n",
              "      <td>Bachelor's</td>\n",
              "      <td>m</td>\n",
              "      <td>sourcing</td>\n",
              "      <td>1</td>\n",
              "      <td>30</td>\n",
              "      <td>4.0</td>\n",
              "      <td>7</td>\n",
              "      <td>0</td>\n",
              "      <td>61</td>\n",
              "    </tr>\n",
              "  </tbody>\n",
              "</table>\n",
              "</div>\n",
              "      <button class=\"colab-df-convert\" onclick=\"convertToInteractive('df-60a368de-4e20-4974-8b29-54d722276ead')\"\n",
              "              title=\"Convert this dataframe to an interactive table.\"\n",
              "              style=\"display:none;\">\n",
              "        \n",
              "  <svg xmlns=\"http://www.w3.org/2000/svg\" height=\"24px\"viewBox=\"0 0 24 24\"\n",
              "       width=\"24px\">\n",
              "    <path d=\"M0 0h24v24H0V0z\" fill=\"none\"/>\n",
              "    <path d=\"M18.56 5.44l.94 2.06.94-2.06 2.06-.94-2.06-.94-.94-2.06-.94 2.06-2.06.94zm-11 1L8.5 8.5l.94-2.06 2.06-.94-2.06-.94L8.5 2.5l-.94 2.06-2.06.94zm10 10l.94 2.06.94-2.06 2.06-.94-2.06-.94-.94-2.06-.94 2.06-2.06.94z\"/><path d=\"M17.41 7.96l-1.37-1.37c-.4-.4-.92-.59-1.43-.59-.52 0-1.04.2-1.43.59L10.3 9.45l-7.72 7.72c-.78.78-.78 2.05 0 2.83L4 21.41c.39.39.9.59 1.41.59.51 0 1.02-.2 1.41-.59l7.78-7.78 2.81-2.81c.8-.78.8-2.07 0-2.86zM5.41 20L4 18.59l7.72-7.72 1.47 1.35L5.41 20z\"/>\n",
              "  </svg>\n",
              "      </button>\n",
              "      \n",
              "  <style>\n",
              "    .colab-df-container {\n",
              "      display:flex;\n",
              "      flex-wrap:wrap;\n",
              "      gap: 12px;\n",
              "    }\n",
              "\n",
              "    .colab-df-convert {\n",
              "      background-color: #E8F0FE;\n",
              "      border: none;\n",
              "      border-radius: 50%;\n",
              "      cursor: pointer;\n",
              "      display: none;\n",
              "      fill: #1967D2;\n",
              "      height: 32px;\n",
              "      padding: 0 0 0 0;\n",
              "      width: 32px;\n",
              "    }\n",
              "\n",
              "    .colab-df-convert:hover {\n",
              "      background-color: #E2EBFA;\n",
              "      box-shadow: 0px 1px 2px rgba(60, 64, 67, 0.3), 0px 1px 3px 1px rgba(60, 64, 67, 0.15);\n",
              "      fill: #174EA6;\n",
              "    }\n",
              "\n",
              "    [theme=dark] .colab-df-convert {\n",
              "      background-color: #3B4455;\n",
              "      fill: #D2E3FC;\n",
              "    }\n",
              "\n",
              "    [theme=dark] .colab-df-convert:hover {\n",
              "      background-color: #434B5C;\n",
              "      box-shadow: 0px 1px 3px 1px rgba(0, 0, 0, 0.15);\n",
              "      filter: drop-shadow(0px 1px 2px rgba(0, 0, 0, 0.3));\n",
              "      fill: #FFFFFF;\n",
              "    }\n",
              "  </style>\n",
              "\n",
              "      <script>\n",
              "        const buttonEl =\n",
              "          document.querySelector('#df-60a368de-4e20-4974-8b29-54d722276ead button.colab-df-convert');\n",
              "        buttonEl.style.display =\n",
              "          google.colab.kernel.accessAllowed ? 'block' : 'none';\n",
              "\n",
              "        async function convertToInteractive(key) {\n",
              "          const element = document.querySelector('#df-60a368de-4e20-4974-8b29-54d722276ead');\n",
              "          const dataTable =\n",
              "            await google.colab.kernel.invokeFunction('convertToInteractive',\n",
              "                                                     [key], {});\n",
              "          if (!dataTable) return;\n",
              "\n",
              "          const docLinkHtml = 'Like what you see? Visit the ' +\n",
              "            '<a target=\"_blank\" href=https://colab.research.google.com/notebooks/data_table.ipynb>data table notebook</a>'\n",
              "            + ' to learn more about interactive tables.';\n",
              "          element.innerHTML = '';\n",
              "          dataTable['output_type'] = 'display_data';\n",
              "          await google.colab.output.renderOutput(dataTable, element);\n",
              "          const docLink = document.createElement('div');\n",
              "          docLink.innerHTML = docLinkHtml;\n",
              "          element.appendChild(docLink);\n",
              "        }\n",
              "      </script>\n",
              "    </div>\n",
              "  </div>\n",
              "  "
            ]
          },
          "metadata": {},
          "execution_count": 151
        }
      ]
    },
    {
      "cell_type": "code",
      "source": [
        "# lets also check the tail of the test data\n",
        "train.tail()"
      ],
      "metadata": {
        "execution": {
          "iopub.status.busy": "2021-09-24T13:21:10.326054Z",
          "iopub.execute_input": "2021-09-24T13:21:10.326601Z",
          "iopub.status.idle": "2021-09-24T13:21:10.355627Z",
          "shell.execute_reply.started": "2021-09-24T13:21:10.326517Z",
          "shell.execute_reply": "2021-09-24T13:21:10.354783Z"
        },
        "trusted": true,
        "colab": {
          "base_uri": "https://localhost:8080/",
          "height": 305
        },
        "id": "tMZEfl3zU5HA",
        "outputId": "21f08988-b306-475a-f302-220c0e1271a6"
      },
      "execution_count": null,
      "outputs": [
        {
          "output_type": "execute_result",
          "data": {
            "text/plain": [
              "       employee_id         department     region         education gender  \\\n",
              "54803         3030         Technology  region_14        Bachelor's      m   \n",
              "54804        74592         Operations  region_27  Master's & above      f   \n",
              "54805        13918          Analytics   region_1        Bachelor's      m   \n",
              "54806        13614  Sales & Marketing   region_9               NaN      m   \n",
              "54807        51526                 HR  region_22        Bachelor's      m   \n",
              "\n",
              "      recruitment_channel  no_of_trainings  age  previous_year_rating  \\\n",
              "54803            sourcing                1   48                   3.0   \n",
              "54804               other                1   37                   2.0   \n",
              "54805               other                1   27                   5.0   \n",
              "54806            sourcing                1   29                   1.0   \n",
              "54807               other                1   27                   1.0   \n",
              "\n",
              "       length_of_service  awards_won?  avg_training_score  is_promoted  \n",
              "54803                 17            0                  78            0  \n",
              "54804                  6            0                  56            0  \n",
              "54805                  3            0                  79            0  \n",
              "54806                  2            0                  45            0  \n",
              "54807                  5            0                  49            0  "
            ],
            "text/html": [
              "\n",
              "  <div id=\"df-9fab6cd7-1cf4-46b2-8b32-5f8407238335\">\n",
              "    <div class=\"colab-df-container\">\n",
              "      <div>\n",
              "<style scoped>\n",
              "    .dataframe tbody tr th:only-of-type {\n",
              "        vertical-align: middle;\n",
              "    }\n",
              "\n",
              "    .dataframe tbody tr th {\n",
              "        vertical-align: top;\n",
              "    }\n",
              "\n",
              "    .dataframe thead th {\n",
              "        text-align: right;\n",
              "    }\n",
              "</style>\n",
              "<table border=\"1\" class=\"dataframe\">\n",
              "  <thead>\n",
              "    <tr style=\"text-align: right;\">\n",
              "      <th></th>\n",
              "      <th>employee_id</th>\n",
              "      <th>department</th>\n",
              "      <th>region</th>\n",
              "      <th>education</th>\n",
              "      <th>gender</th>\n",
              "      <th>recruitment_channel</th>\n",
              "      <th>no_of_trainings</th>\n",
              "      <th>age</th>\n",
              "      <th>previous_year_rating</th>\n",
              "      <th>length_of_service</th>\n",
              "      <th>awards_won?</th>\n",
              "      <th>avg_training_score</th>\n",
              "      <th>is_promoted</th>\n",
              "    </tr>\n",
              "  </thead>\n",
              "  <tbody>\n",
              "    <tr>\n",
              "      <th>54803</th>\n",
              "      <td>3030</td>\n",
              "      <td>Technology</td>\n",
              "      <td>region_14</td>\n",
              "      <td>Bachelor's</td>\n",
              "      <td>m</td>\n",
              "      <td>sourcing</td>\n",
              "      <td>1</td>\n",
              "      <td>48</td>\n",
              "      <td>3.0</td>\n",
              "      <td>17</td>\n",
              "      <td>0</td>\n",
              "      <td>78</td>\n",
              "      <td>0</td>\n",
              "    </tr>\n",
              "    <tr>\n",
              "      <th>54804</th>\n",
              "      <td>74592</td>\n",
              "      <td>Operations</td>\n",
              "      <td>region_27</td>\n",
              "      <td>Master's &amp; above</td>\n",
              "      <td>f</td>\n",
              "      <td>other</td>\n",
              "      <td>1</td>\n",
              "      <td>37</td>\n",
              "      <td>2.0</td>\n",
              "      <td>6</td>\n",
              "      <td>0</td>\n",
              "      <td>56</td>\n",
              "      <td>0</td>\n",
              "    </tr>\n",
              "    <tr>\n",
              "      <th>54805</th>\n",
              "      <td>13918</td>\n",
              "      <td>Analytics</td>\n",
              "      <td>region_1</td>\n",
              "      <td>Bachelor's</td>\n",
              "      <td>m</td>\n",
              "      <td>other</td>\n",
              "      <td>1</td>\n",
              "      <td>27</td>\n",
              "      <td>5.0</td>\n",
              "      <td>3</td>\n",
              "      <td>0</td>\n",
              "      <td>79</td>\n",
              "      <td>0</td>\n",
              "    </tr>\n",
              "    <tr>\n",
              "      <th>54806</th>\n",
              "      <td>13614</td>\n",
              "      <td>Sales &amp; Marketing</td>\n",
              "      <td>region_9</td>\n",
              "      <td>NaN</td>\n",
              "      <td>m</td>\n",
              "      <td>sourcing</td>\n",
              "      <td>1</td>\n",
              "      <td>29</td>\n",
              "      <td>1.0</td>\n",
              "      <td>2</td>\n",
              "      <td>0</td>\n",
              "      <td>45</td>\n",
              "      <td>0</td>\n",
              "    </tr>\n",
              "    <tr>\n",
              "      <th>54807</th>\n",
              "      <td>51526</td>\n",
              "      <td>HR</td>\n",
              "      <td>region_22</td>\n",
              "      <td>Bachelor's</td>\n",
              "      <td>m</td>\n",
              "      <td>other</td>\n",
              "      <td>1</td>\n",
              "      <td>27</td>\n",
              "      <td>1.0</td>\n",
              "      <td>5</td>\n",
              "      <td>0</td>\n",
              "      <td>49</td>\n",
              "      <td>0</td>\n",
              "    </tr>\n",
              "  </tbody>\n",
              "</table>\n",
              "</div>\n",
              "      <button class=\"colab-df-convert\" onclick=\"convertToInteractive('df-9fab6cd7-1cf4-46b2-8b32-5f8407238335')\"\n",
              "              title=\"Convert this dataframe to an interactive table.\"\n",
              "              style=\"display:none;\">\n",
              "        \n",
              "  <svg xmlns=\"http://www.w3.org/2000/svg\" height=\"24px\"viewBox=\"0 0 24 24\"\n",
              "       width=\"24px\">\n",
              "    <path d=\"M0 0h24v24H0V0z\" fill=\"none\"/>\n",
              "    <path d=\"M18.56 5.44l.94 2.06.94-2.06 2.06-.94-2.06-.94-.94-2.06-.94 2.06-2.06.94zm-11 1L8.5 8.5l.94-2.06 2.06-.94-2.06-.94L8.5 2.5l-.94 2.06-2.06.94zm10 10l.94 2.06.94-2.06 2.06-.94-2.06-.94-.94-2.06-.94 2.06-2.06.94z\"/><path d=\"M17.41 7.96l-1.37-1.37c-.4-.4-.92-.59-1.43-.59-.52 0-1.04.2-1.43.59L10.3 9.45l-7.72 7.72c-.78.78-.78 2.05 0 2.83L4 21.41c.39.39.9.59 1.41.59.51 0 1.02-.2 1.41-.59l7.78-7.78 2.81-2.81c.8-.78.8-2.07 0-2.86zM5.41 20L4 18.59l7.72-7.72 1.47 1.35L5.41 20z\"/>\n",
              "  </svg>\n",
              "      </button>\n",
              "      \n",
              "  <style>\n",
              "    .colab-df-container {\n",
              "      display:flex;\n",
              "      flex-wrap:wrap;\n",
              "      gap: 12px;\n",
              "    }\n",
              "\n",
              "    .colab-df-convert {\n",
              "      background-color: #E8F0FE;\n",
              "      border: none;\n",
              "      border-radius: 50%;\n",
              "      cursor: pointer;\n",
              "      display: none;\n",
              "      fill: #1967D2;\n",
              "      height: 32px;\n",
              "      padding: 0 0 0 0;\n",
              "      width: 32px;\n",
              "    }\n",
              "\n",
              "    .colab-df-convert:hover {\n",
              "      background-color: #E2EBFA;\n",
              "      box-shadow: 0px 1px 2px rgba(60, 64, 67, 0.3), 0px 1px 3px 1px rgba(60, 64, 67, 0.15);\n",
              "      fill: #174EA6;\n",
              "    }\n",
              "\n",
              "    [theme=dark] .colab-df-convert {\n",
              "      background-color: #3B4455;\n",
              "      fill: #D2E3FC;\n",
              "    }\n",
              "\n",
              "    [theme=dark] .colab-df-convert:hover {\n",
              "      background-color: #434B5C;\n",
              "      box-shadow: 0px 1px 3px 1px rgba(0, 0, 0, 0.15);\n",
              "      filter: drop-shadow(0px 1px 2px rgba(0, 0, 0, 0.3));\n",
              "      fill: #FFFFFF;\n",
              "    }\n",
              "  </style>\n",
              "\n",
              "      <script>\n",
              "        const buttonEl =\n",
              "          document.querySelector('#df-9fab6cd7-1cf4-46b2-8b32-5f8407238335 button.colab-df-convert');\n",
              "        buttonEl.style.display =\n",
              "          google.colab.kernel.accessAllowed ? 'block' : 'none';\n",
              "\n",
              "        async function convertToInteractive(key) {\n",
              "          const element = document.querySelector('#df-9fab6cd7-1cf4-46b2-8b32-5f8407238335');\n",
              "          const dataTable =\n",
              "            await google.colab.kernel.invokeFunction('convertToInteractive',\n",
              "                                                     [key], {});\n",
              "          if (!dataTable) return;\n",
              "\n",
              "          const docLinkHtml = 'Like what you see? Visit the ' +\n",
              "            '<a target=\"_blank\" href=https://colab.research.google.com/notebooks/data_table.ipynb>data table notebook</a>'\n",
              "            + ' to learn more about interactive tables.';\n",
              "          element.innerHTML = '';\n",
              "          dataTable['output_type'] = 'display_data';\n",
              "          await google.colab.output.renderOutput(dataTable, element);\n",
              "          const docLink = document.createElement('div');\n",
              "          docLink.innerHTML = docLinkHtml;\n",
              "          element.appendChild(docLink);\n",
              "        }\n",
              "      </script>\n",
              "    </div>\n",
              "  </div>\n",
              "  "
            ]
          },
          "metadata": {},
          "execution_count": 152
        }
      ]
    },
    {
      "cell_type": "code",
      "source": [
        "# lets also check the tail of the test data\n",
        "test.tail()"
      ],
      "metadata": {
        "execution": {
          "iopub.status.busy": "2021-09-24T13:21:10.359766Z",
          "iopub.execute_input": "2021-09-24T13:21:10.360705Z",
          "iopub.status.idle": "2021-09-24T13:21:10.380143Z",
          "shell.execute_reply.started": "2021-09-24T13:21:10.360658Z",
          "shell.execute_reply": "2021-09-24T13:21:10.379114Z"
        },
        "trusted": true,
        "colab": {
          "base_uri": "https://localhost:8080/",
          "height": 305
        },
        "id": "-s59lDDeU5HB",
        "outputId": "5affcc02-218a-4802-e7ec-9045f4cb552c"
      },
      "execution_count": null,
      "outputs": [
        {
          "output_type": "execute_result",
          "data": {
            "text/plain": [
              "       employee_id   department     region         education gender  \\\n",
              "23485        53478        Legal   region_2   Below Secondary      m   \n",
              "23486        25600   Technology  region_25        Bachelor's      m   \n",
              "23487        45409           HR  region_16        Bachelor's      f   \n",
              "23488         1186  Procurement  region_31        Bachelor's      m   \n",
              "23489         5973   Technology  region_17  Master's & above      m   \n",
              "\n",
              "      recruitment_channel  no_of_trainings  age  previous_year_rating  \\\n",
              "23485            sourcing                1   24                   3.0   \n",
              "23486            sourcing                1   31                   3.0   \n",
              "23487            sourcing                1   26                   4.0   \n",
              "23488            sourcing                3   27                   NaN   \n",
              "23489               other                3   40                   5.0   \n",
              "\n",
              "       length_of_service  awards_won?  avg_training_score  \n",
              "23485                  1            0                  61  \n",
              "23486                  7            0                  74  \n",
              "23487                  4            0                  50  \n",
              "23488                  1            0                  70  \n",
              "23489                  5            0                  89  "
            ],
            "text/html": [
              "\n",
              "  <div id=\"df-f91b640e-c277-41aa-95f9-71b1a57b1589\">\n",
              "    <div class=\"colab-df-container\">\n",
              "      <div>\n",
              "<style scoped>\n",
              "    .dataframe tbody tr th:only-of-type {\n",
              "        vertical-align: middle;\n",
              "    }\n",
              "\n",
              "    .dataframe tbody tr th {\n",
              "        vertical-align: top;\n",
              "    }\n",
              "\n",
              "    .dataframe thead th {\n",
              "        text-align: right;\n",
              "    }\n",
              "</style>\n",
              "<table border=\"1\" class=\"dataframe\">\n",
              "  <thead>\n",
              "    <tr style=\"text-align: right;\">\n",
              "      <th></th>\n",
              "      <th>employee_id</th>\n",
              "      <th>department</th>\n",
              "      <th>region</th>\n",
              "      <th>education</th>\n",
              "      <th>gender</th>\n",
              "      <th>recruitment_channel</th>\n",
              "      <th>no_of_trainings</th>\n",
              "      <th>age</th>\n",
              "      <th>previous_year_rating</th>\n",
              "      <th>length_of_service</th>\n",
              "      <th>awards_won?</th>\n",
              "      <th>avg_training_score</th>\n",
              "    </tr>\n",
              "  </thead>\n",
              "  <tbody>\n",
              "    <tr>\n",
              "      <th>23485</th>\n",
              "      <td>53478</td>\n",
              "      <td>Legal</td>\n",
              "      <td>region_2</td>\n",
              "      <td>Below Secondary</td>\n",
              "      <td>m</td>\n",
              "      <td>sourcing</td>\n",
              "      <td>1</td>\n",
              "      <td>24</td>\n",
              "      <td>3.0</td>\n",
              "      <td>1</td>\n",
              "      <td>0</td>\n",
              "      <td>61</td>\n",
              "    </tr>\n",
              "    <tr>\n",
              "      <th>23486</th>\n",
              "      <td>25600</td>\n",
              "      <td>Technology</td>\n",
              "      <td>region_25</td>\n",
              "      <td>Bachelor's</td>\n",
              "      <td>m</td>\n",
              "      <td>sourcing</td>\n",
              "      <td>1</td>\n",
              "      <td>31</td>\n",
              "      <td>3.0</td>\n",
              "      <td>7</td>\n",
              "      <td>0</td>\n",
              "      <td>74</td>\n",
              "    </tr>\n",
              "    <tr>\n",
              "      <th>23487</th>\n",
              "      <td>45409</td>\n",
              "      <td>HR</td>\n",
              "      <td>region_16</td>\n",
              "      <td>Bachelor's</td>\n",
              "      <td>f</td>\n",
              "      <td>sourcing</td>\n",
              "      <td>1</td>\n",
              "      <td>26</td>\n",
              "      <td>4.0</td>\n",
              "      <td>4</td>\n",
              "      <td>0</td>\n",
              "      <td>50</td>\n",
              "    </tr>\n",
              "    <tr>\n",
              "      <th>23488</th>\n",
              "      <td>1186</td>\n",
              "      <td>Procurement</td>\n",
              "      <td>region_31</td>\n",
              "      <td>Bachelor's</td>\n",
              "      <td>m</td>\n",
              "      <td>sourcing</td>\n",
              "      <td>3</td>\n",
              "      <td>27</td>\n",
              "      <td>NaN</td>\n",
              "      <td>1</td>\n",
              "      <td>0</td>\n",
              "      <td>70</td>\n",
              "    </tr>\n",
              "    <tr>\n",
              "      <th>23489</th>\n",
              "      <td>5973</td>\n",
              "      <td>Technology</td>\n",
              "      <td>region_17</td>\n",
              "      <td>Master's &amp; above</td>\n",
              "      <td>m</td>\n",
              "      <td>other</td>\n",
              "      <td>3</td>\n",
              "      <td>40</td>\n",
              "      <td>5.0</td>\n",
              "      <td>5</td>\n",
              "      <td>0</td>\n",
              "      <td>89</td>\n",
              "    </tr>\n",
              "  </tbody>\n",
              "</table>\n",
              "</div>\n",
              "      <button class=\"colab-df-convert\" onclick=\"convertToInteractive('df-f91b640e-c277-41aa-95f9-71b1a57b1589')\"\n",
              "              title=\"Convert this dataframe to an interactive table.\"\n",
              "              style=\"display:none;\">\n",
              "        \n",
              "  <svg xmlns=\"http://www.w3.org/2000/svg\" height=\"24px\"viewBox=\"0 0 24 24\"\n",
              "       width=\"24px\">\n",
              "    <path d=\"M0 0h24v24H0V0z\" fill=\"none\"/>\n",
              "    <path d=\"M18.56 5.44l.94 2.06.94-2.06 2.06-.94-2.06-.94-.94-2.06-.94 2.06-2.06.94zm-11 1L8.5 8.5l.94-2.06 2.06-.94-2.06-.94L8.5 2.5l-.94 2.06-2.06.94zm10 10l.94 2.06.94-2.06 2.06-.94-2.06-.94-.94-2.06-.94 2.06-2.06.94z\"/><path d=\"M17.41 7.96l-1.37-1.37c-.4-.4-.92-.59-1.43-.59-.52 0-1.04.2-1.43.59L10.3 9.45l-7.72 7.72c-.78.78-.78 2.05 0 2.83L4 21.41c.39.39.9.59 1.41.59.51 0 1.02-.2 1.41-.59l7.78-7.78 2.81-2.81c.8-.78.8-2.07 0-2.86zM5.41 20L4 18.59l7.72-7.72 1.47 1.35L5.41 20z\"/>\n",
              "  </svg>\n",
              "      </button>\n",
              "      \n",
              "  <style>\n",
              "    .colab-df-container {\n",
              "      display:flex;\n",
              "      flex-wrap:wrap;\n",
              "      gap: 12px;\n",
              "    }\n",
              "\n",
              "    .colab-df-convert {\n",
              "      background-color: #E8F0FE;\n",
              "      border: none;\n",
              "      border-radius: 50%;\n",
              "      cursor: pointer;\n",
              "      display: none;\n",
              "      fill: #1967D2;\n",
              "      height: 32px;\n",
              "      padding: 0 0 0 0;\n",
              "      width: 32px;\n",
              "    }\n",
              "\n",
              "    .colab-df-convert:hover {\n",
              "      background-color: #E2EBFA;\n",
              "      box-shadow: 0px 1px 2px rgba(60, 64, 67, 0.3), 0px 1px 3px 1px rgba(60, 64, 67, 0.15);\n",
              "      fill: #174EA6;\n",
              "    }\n",
              "\n",
              "    [theme=dark] .colab-df-convert {\n",
              "      background-color: #3B4455;\n",
              "      fill: #D2E3FC;\n",
              "    }\n",
              "\n",
              "    [theme=dark] .colab-df-convert:hover {\n",
              "      background-color: #434B5C;\n",
              "      box-shadow: 0px 1px 3px 1px rgba(0, 0, 0, 0.15);\n",
              "      filter: drop-shadow(0px 1px 2px rgba(0, 0, 0, 0.3));\n",
              "      fill: #FFFFFF;\n",
              "    }\n",
              "  </style>\n",
              "\n",
              "      <script>\n",
              "        const buttonEl =\n",
              "          document.querySelector('#df-f91b640e-c277-41aa-95f9-71b1a57b1589 button.colab-df-convert');\n",
              "        buttonEl.style.display =\n",
              "          google.colab.kernel.accessAllowed ? 'block' : 'none';\n",
              "\n",
              "        async function convertToInteractive(key) {\n",
              "          const element = document.querySelector('#df-f91b640e-c277-41aa-95f9-71b1a57b1589');\n",
              "          const dataTable =\n",
              "            await google.colab.kernel.invokeFunction('convertToInteractive',\n",
              "                                                     [key], {});\n",
              "          if (!dataTable) return;\n",
              "\n",
              "          const docLinkHtml = 'Like what you see? Visit the ' +\n",
              "            '<a target=\"_blank\" href=https://colab.research.google.com/notebooks/data_table.ipynb>data table notebook</a>'\n",
              "            + ' to learn more about interactive tables.';\n",
              "          element.innerHTML = '';\n",
              "          dataTable['output_type'] = 'display_data';\n",
              "          await google.colab.output.renderOutput(dataTable, element);\n",
              "          const docLink = document.createElement('div');\n",
              "          docLink.innerHTML = docLinkHtml;\n",
              "          element.appendChild(docLink);\n",
              "        }\n",
              "      </script>\n",
              "    </div>\n",
              "  </div>\n",
              "  "
            ]
          },
          "metadata": {},
          "execution_count": 153
        }
      ]
    },
    {
      "cell_type": "markdown",
      "source": [
        "## <center>Data Description</center>\n",
        "\n",
        "<table>\n",
        "    <tr>\n",
        "        <td><b>Variable</b></td>\n",
        "        <td><b>Definition</b></td>\n",
        "    </tr>\n",
        "    <tr>\n",
        "        <td>employee_id</td>\n",
        "        <td>Unique ID for employee<td>\n",
        "    </tr>\n",
        "    <tr>\n",
        "        <td>department</td>\n",
        "        <td>Department of employee</td>\n",
        "    </tr>\n",
        "    <tr>\n",
        "        <td>region</td>\n",
        "        <td>Region of employment (unordered)</td>\n",
        "    </tr>\n",
        "    <tr>\n",
        "        <td>education</td>\n",
        "        <td>Education Level</td>\n",
        "    </tr>\n",
        "    <tr>\n",
        "        <td>gender</td>\n",
        "        <td>Gender of Employee</td>\n",
        "    </tr>\n",
        "    <tr>\n",
        "        <td>recruitment_channel</td>\n",
        "        <td>Channel of recruitment for employee</td>\n",
        "    </tr>\n",
        "    <tr>\n",
        "        <td>no_of_trainings</td>\n",
        "        <td>no of other trainings completed in previous year on soft skills, technical skills etc.</td>\n",
        "    </tr>\n",
        "    <tr>\n",
        "        <td>age</td>\n",
        "        <td>Age of Employee</td>\n",
        "    </tr>\n",
        "    <tr>\n",
        "        <td>previous_year_rating</td>\n",
        "        <td>Employee Rating for the previous year</td>\n",
        "    </tr>\n",
        "    <tr>\n",
        "        <td>length_of_service</td>\n",
        "        <td>Length of service in years</td>\n",
        "    </tr>\n",
        "    <tr>\n",
        "        <td>KPIs_met >80%</td>\n",
        "        <td>if Percent of KPIs(Key performance Indicators) >80% then 1 else 0</td>\n",
        "    </tr>\n",
        "    <tr>\n",
        "        <td>awards_won?</td>\n",
        "        <td>if awards won during previous year then 1 else 0</td>\n",
        "    </tr>\n",
        "    <tr>\n",
        "        <td>avg_training_score</td>\n",
        "        <td>Average score in current training evaluations</td>\n",
        "    </tr>\n",
        "    <tr>\n",
        "        <td>is_promoted\t(Target)</td>\n",
        "        <td>Recommended for promotion</td>\n",
        "    </tr>\n",
        "</table>"
      ],
      "metadata": {
        "id": "slbV8fDzU5HB"
      }
    },
    {
      "cell_type": "code",
      "source": [
        "# values in Departments\n",
        "\n",
        "train['department'].value_counts()"
      ],
      "metadata": {
        "execution": {
          "iopub.status.busy": "2021-09-24T13:21:10.381544Z",
          "iopub.execute_input": "2021-09-24T13:21:10.382398Z",
          "iopub.status.idle": "2021-09-24T13:21:10.41653Z",
          "shell.execute_reply.started": "2021-09-24T13:21:10.382353Z",
          "shell.execute_reply": "2021-09-24T13:21:10.415465Z"
        },
        "trusted": true,
        "colab": {
          "base_uri": "https://localhost:8080/"
        },
        "id": "_2eGOYOaU5HD",
        "outputId": "260cd7ff-d0f5-4f0a-f2ce-6d1e682db549"
      },
      "execution_count": null,
      "outputs": [
        {
          "output_type": "execute_result",
          "data": {
            "text/plain": [
              "Sales & Marketing    16840\n",
              "Operations           11348\n",
              "Technology            7138\n",
              "Procurement           7138\n",
              "Analytics             5352\n",
              "Finance               2536\n",
              "HR                    2418\n",
              "Legal                 1039\n",
              "R&D                    999\n",
              "Name: department, dtype: int64"
            ]
          },
          "metadata": {},
          "execution_count": 154
        }
      ]
    },
    {
      "cell_type": "code",
      "source": [
        "# values in Region\n",
        "\n",
        "train['region'].value_counts()"
      ],
      "metadata": {
        "execution": {
          "iopub.status.busy": "2021-09-24T13:21:10.419583Z",
          "iopub.execute_input": "2021-09-24T13:21:10.420877Z",
          "iopub.status.idle": "2021-09-24T13:21:10.439999Z",
          "shell.execute_reply.started": "2021-09-24T13:21:10.42082Z",
          "shell.execute_reply": "2021-09-24T13:21:10.439118Z"
        },
        "trusted": true,
        "colab": {
          "base_uri": "https://localhost:8080/"
        },
        "id": "J4_0TGyuU5HE",
        "outputId": "3fd7f041-03ce-4b08-8070-d03a08c4d11b"
      },
      "execution_count": null,
      "outputs": [
        {
          "output_type": "execute_result",
          "data": {
            "text/plain": [
              "region_2     12343\n",
              "region_22     6428\n",
              "region_7      4843\n",
              "region_15     2808\n",
              "region_13     2648\n",
              "region_26     2260\n",
              "region_31     1935\n",
              "region_4      1703\n",
              "region_27     1659\n",
              "region_16     1465\n",
              "region_28     1318\n",
              "region_11     1315\n",
              "region_23     1175\n",
              "region_29      994\n",
              "region_32      945\n",
              "region_19      874\n",
              "region_20      850\n",
              "region_14      827\n",
              "region_25      819\n",
              "region_17      796\n",
              "region_5       766\n",
              "region_6       690\n",
              "region_30      657\n",
              "region_8       655\n",
              "region_10      648\n",
              "region_1       610\n",
              "region_24      508\n",
              "region_12      500\n",
              "region_9       420\n",
              "region_21      411\n",
              "region_3       346\n",
              "region_34      292\n",
              "region_33      269\n",
              "region_18       31\n",
              "Name: region, dtype: int64"
            ]
          },
          "metadata": {},
          "execution_count": 155
        }
      ]
    },
    {
      "cell_type": "markdown",
      "source": [
        "## Descriptive Statistics\n"
      ],
      "metadata": {
        "id": "uV7O10nnU5HE"
      }
    },
    {
      "cell_type": "code",
      "source": [
        "# lets check descriptive statistics for numerical columns\n",
        "train.describe().style.background_gradient(cmap = 'copper')"
      ],
      "metadata": {
        "execution": {
          "iopub.status.busy": "2021-09-24T13:21:10.441403Z",
          "iopub.execute_input": "2021-09-24T13:21:10.442206Z",
          "iopub.status.idle": "2021-09-24T13:21:10.590496Z",
          "shell.execute_reply.started": "2021-09-24T13:21:10.442159Z",
          "shell.execute_reply": "2021-09-24T13:21:10.589397Z"
        },
        "trusted": true,
        "colab": {
          "base_uri": "https://localhost:8080/",
          "height": 300
        },
        "id": "OeHYOW-qU5HE",
        "outputId": "b2706d6e-c293-40c8-9619-6860faff050f"
      },
      "execution_count": null,
      "outputs": [
        {
          "output_type": "execute_result",
          "data": {
            "text/plain": [
              "<pandas.io.formats.style.Styler at 0x7f14614056d0>"
            ],
            "text/html": [
              "<style type=\"text/css\">\n",
              "#T_7b720_row0_col0 {\n",
              "  background-color: #dd8c59;\n",
              "  color: #f1f1f1;\n",
              "}\n",
              "#T_7b720_row0_col1, #T_7b720_row0_col2, #T_7b720_row0_col3, #T_7b720_row0_col4, #T_7b720_row0_col5, #T_7b720_row0_col6, #T_7b720_row0_col7, #T_7b720_row7_col0 {\n",
              "  background-color: #ffc77f;\n",
              "  color: #000000;\n",
              "}\n",
              "#T_7b720_row1_col0, #T_7b720_row5_col0 {\n",
              "  background-color: #9e6440;\n",
              "  color: #f1f1f1;\n",
              "}\n",
              "#T_7b720_row1_col1, #T_7b720_row1_col2, #T_7b720_row1_col3, #T_7b720_row1_col4, #T_7b720_row1_col5, #T_7b720_row1_col6, #T_7b720_row1_col7, #T_7b720_row2_col1, #T_7b720_row2_col2, #T_7b720_row2_col3, #T_7b720_row2_col4, #T_7b720_row2_col5, #T_7b720_row2_col6, #T_7b720_row2_col7, #T_7b720_row3_col0, #T_7b720_row3_col1, #T_7b720_row3_col2, #T_7b720_row3_col3, #T_7b720_row3_col4, #T_7b720_row3_col5, #T_7b720_row3_col6, #T_7b720_row3_col7, #T_7b720_row4_col1, #T_7b720_row4_col2, #T_7b720_row4_col3, #T_7b720_row4_col4, #T_7b720_row4_col5, #T_7b720_row4_col6, #T_7b720_row4_col7, #T_7b720_row5_col1, #T_7b720_row5_col2, #T_7b720_row5_col3, #T_7b720_row5_col4, #T_7b720_row5_col5, #T_7b720_row5_col6, #T_7b720_row5_col7, #T_7b720_row6_col1, #T_7b720_row6_col2, #T_7b720_row6_col3, #T_7b720_row6_col4, #T_7b720_row6_col5, #T_7b720_row6_col6, #T_7b720_row6_col7, #T_7b720_row7_col1, #T_7b720_row7_col2, #T_7b720_row7_col3, #T_7b720_row7_col4, #T_7b720_row7_col5, #T_7b720_row7_col6, #T_7b720_row7_col7 {\n",
              "  background-color: #000000;\n",
              "  color: #f1f1f1;\n",
              "}\n",
              "#T_7b720_row2_col0 {\n",
              "  background-color: #5a3924;\n",
              "  color: #f1f1f1;\n",
              "}\n",
              "#T_7b720_row4_col0 {\n",
              "  background-color: #4f3220;\n",
              "  color: #f1f1f1;\n",
              "}\n",
              "#T_7b720_row6_col0 {\n",
              "  background-color: #ed9660;\n",
              "  color: #f1f1f1;\n",
              "}\n",
              "</style>\n",
              "<table id=\"T_7b720\" class=\"dataframe\">\n",
              "  <thead>\n",
              "    <tr>\n",
              "      <th class=\"blank level0\" >&nbsp;</th>\n",
              "      <th id=\"T_7b720_level0_col0\" class=\"col_heading level0 col0\" >employee_id</th>\n",
              "      <th id=\"T_7b720_level0_col1\" class=\"col_heading level0 col1\" >no_of_trainings</th>\n",
              "      <th id=\"T_7b720_level0_col2\" class=\"col_heading level0 col2\" >age</th>\n",
              "      <th id=\"T_7b720_level0_col3\" class=\"col_heading level0 col3\" >previous_year_rating</th>\n",
              "      <th id=\"T_7b720_level0_col4\" class=\"col_heading level0 col4\" >length_of_service</th>\n",
              "      <th id=\"T_7b720_level0_col5\" class=\"col_heading level0 col5\" >awards_won?</th>\n",
              "      <th id=\"T_7b720_level0_col6\" class=\"col_heading level0 col6\" >avg_training_score</th>\n",
              "      <th id=\"T_7b720_level0_col7\" class=\"col_heading level0 col7\" >is_promoted</th>\n",
              "    </tr>\n",
              "  </thead>\n",
              "  <tbody>\n",
              "    <tr>\n",
              "      <th id=\"T_7b720_level0_row0\" class=\"row_heading level0 row0\" >count</th>\n",
              "      <td id=\"T_7b720_row0_col0\" class=\"data row0 col0\" >54808.000000</td>\n",
              "      <td id=\"T_7b720_row0_col1\" class=\"data row0 col1\" >54808.000000</td>\n",
              "      <td id=\"T_7b720_row0_col2\" class=\"data row0 col2\" >54808.000000</td>\n",
              "      <td id=\"T_7b720_row0_col3\" class=\"data row0 col3\" >50684.000000</td>\n",
              "      <td id=\"T_7b720_row0_col4\" class=\"data row0 col4\" >54808.000000</td>\n",
              "      <td id=\"T_7b720_row0_col5\" class=\"data row0 col5\" >54808.000000</td>\n",
              "      <td id=\"T_7b720_row0_col6\" class=\"data row0 col6\" >54808.000000</td>\n",
              "      <td id=\"T_7b720_row0_col7\" class=\"data row0 col7\" >54808.000000</td>\n",
              "    </tr>\n",
              "    <tr>\n",
              "      <th id=\"T_7b720_level0_row1\" class=\"row_heading level0 row1\" >mean</th>\n",
              "      <td id=\"T_7b720_row1_col0\" class=\"data row1 col0\" >39195.830627</td>\n",
              "      <td id=\"T_7b720_row1_col1\" class=\"data row1 col1\" >1.253011</td>\n",
              "      <td id=\"T_7b720_row1_col2\" class=\"data row1 col2\" >34.803915</td>\n",
              "      <td id=\"T_7b720_row1_col3\" class=\"data row1 col3\" >3.329256</td>\n",
              "      <td id=\"T_7b720_row1_col4\" class=\"data row1 col4\" >5.865512</td>\n",
              "      <td id=\"T_7b720_row1_col5\" class=\"data row1 col5\" >0.023172</td>\n",
              "      <td id=\"T_7b720_row1_col6\" class=\"data row1 col6\" >63.386750</td>\n",
              "      <td id=\"T_7b720_row1_col7\" class=\"data row1 col7\" >0.085170</td>\n",
              "    </tr>\n",
              "    <tr>\n",
              "      <th id=\"T_7b720_level0_row2\" class=\"row_heading level0 row2\" >std</th>\n",
              "      <td id=\"T_7b720_row2_col0\" class=\"data row2 col0\" >22586.581449</td>\n",
              "      <td id=\"T_7b720_row2_col1\" class=\"data row2 col1\" >0.609264</td>\n",
              "      <td id=\"T_7b720_row2_col2\" class=\"data row2 col2\" >7.660169</td>\n",
              "      <td id=\"T_7b720_row2_col3\" class=\"data row2 col3\" >1.259993</td>\n",
              "      <td id=\"T_7b720_row2_col4\" class=\"data row2 col4\" >4.265094</td>\n",
              "      <td id=\"T_7b720_row2_col5\" class=\"data row2 col5\" >0.150450</td>\n",
              "      <td id=\"T_7b720_row2_col6\" class=\"data row2 col6\" >13.371559</td>\n",
              "      <td id=\"T_7b720_row2_col7\" class=\"data row2 col7\" >0.279137</td>\n",
              "    </tr>\n",
              "    <tr>\n",
              "      <th id=\"T_7b720_level0_row3\" class=\"row_heading level0 row3\" >min</th>\n",
              "      <td id=\"T_7b720_row3_col0\" class=\"data row3 col0\" >1.000000</td>\n",
              "      <td id=\"T_7b720_row3_col1\" class=\"data row3 col1\" >1.000000</td>\n",
              "      <td id=\"T_7b720_row3_col2\" class=\"data row3 col2\" >20.000000</td>\n",
              "      <td id=\"T_7b720_row3_col3\" class=\"data row3 col3\" >1.000000</td>\n",
              "      <td id=\"T_7b720_row3_col4\" class=\"data row3 col4\" >1.000000</td>\n",
              "      <td id=\"T_7b720_row3_col5\" class=\"data row3 col5\" >0.000000</td>\n",
              "      <td id=\"T_7b720_row3_col6\" class=\"data row3 col6\" >39.000000</td>\n",
              "      <td id=\"T_7b720_row3_col7\" class=\"data row3 col7\" >0.000000</td>\n",
              "    </tr>\n",
              "    <tr>\n",
              "      <th id=\"T_7b720_level0_row4\" class=\"row_heading level0 row4\" >25%</th>\n",
              "      <td id=\"T_7b720_row4_col0\" class=\"data row4 col0\" >19669.750000</td>\n",
              "      <td id=\"T_7b720_row4_col1\" class=\"data row4 col1\" >1.000000</td>\n",
              "      <td id=\"T_7b720_row4_col2\" class=\"data row4 col2\" >29.000000</td>\n",
              "      <td id=\"T_7b720_row4_col3\" class=\"data row4 col3\" >3.000000</td>\n",
              "      <td id=\"T_7b720_row4_col4\" class=\"data row4 col4\" >3.000000</td>\n",
              "      <td id=\"T_7b720_row4_col5\" class=\"data row4 col5\" >0.000000</td>\n",
              "      <td id=\"T_7b720_row4_col6\" class=\"data row4 col6\" >51.000000</td>\n",
              "      <td id=\"T_7b720_row4_col7\" class=\"data row4 col7\" >0.000000</td>\n",
              "    </tr>\n",
              "    <tr>\n",
              "      <th id=\"T_7b720_level0_row5\" class=\"row_heading level0 row5\" >50%</th>\n",
              "      <td id=\"T_7b720_row5_col0\" class=\"data row5 col0\" >39225.500000</td>\n",
              "      <td id=\"T_7b720_row5_col1\" class=\"data row5 col1\" >1.000000</td>\n",
              "      <td id=\"T_7b720_row5_col2\" class=\"data row5 col2\" >33.000000</td>\n",
              "      <td id=\"T_7b720_row5_col3\" class=\"data row5 col3\" >3.000000</td>\n",
              "      <td id=\"T_7b720_row5_col4\" class=\"data row5 col4\" >5.000000</td>\n",
              "      <td id=\"T_7b720_row5_col5\" class=\"data row5 col5\" >0.000000</td>\n",
              "      <td id=\"T_7b720_row5_col6\" class=\"data row5 col6\" >60.000000</td>\n",
              "      <td id=\"T_7b720_row5_col7\" class=\"data row5 col7\" >0.000000</td>\n",
              "    </tr>\n",
              "    <tr>\n",
              "      <th id=\"T_7b720_level0_row6\" class=\"row_heading level0 row6\" >75%</th>\n",
              "      <td id=\"T_7b720_row6_col0\" class=\"data row6 col0\" >58730.500000</td>\n",
              "      <td id=\"T_7b720_row6_col1\" class=\"data row6 col1\" >1.000000</td>\n",
              "      <td id=\"T_7b720_row6_col2\" class=\"data row6 col2\" >39.000000</td>\n",
              "      <td id=\"T_7b720_row6_col3\" class=\"data row6 col3\" >4.000000</td>\n",
              "      <td id=\"T_7b720_row6_col4\" class=\"data row6 col4\" >7.000000</td>\n",
              "      <td id=\"T_7b720_row6_col5\" class=\"data row6 col5\" >0.000000</td>\n",
              "      <td id=\"T_7b720_row6_col6\" class=\"data row6 col6\" >76.000000</td>\n",
              "      <td id=\"T_7b720_row6_col7\" class=\"data row6 col7\" >0.000000</td>\n",
              "    </tr>\n",
              "    <tr>\n",
              "      <th id=\"T_7b720_level0_row7\" class=\"row_heading level0 row7\" >max</th>\n",
              "      <td id=\"T_7b720_row7_col0\" class=\"data row7 col0\" >78298.000000</td>\n",
              "      <td id=\"T_7b720_row7_col1\" class=\"data row7 col1\" >10.000000</td>\n",
              "      <td id=\"T_7b720_row7_col2\" class=\"data row7 col2\" >60.000000</td>\n",
              "      <td id=\"T_7b720_row7_col3\" class=\"data row7 col3\" >5.000000</td>\n",
              "      <td id=\"T_7b720_row7_col4\" class=\"data row7 col4\" >37.000000</td>\n",
              "      <td id=\"T_7b720_row7_col5\" class=\"data row7 col5\" >1.000000</td>\n",
              "      <td id=\"T_7b720_row7_col6\" class=\"data row7 col6\" >99.000000</td>\n",
              "      <td id=\"T_7b720_row7_col7\" class=\"data row7 col7\" >1.000000</td>\n",
              "    </tr>\n",
              "  </tbody>\n",
              "</table>\n"
            ]
          },
          "metadata": {},
          "execution_count": 88
        }
      ]
    },
    {
      "cell_type": "code",
      "source": [
        "# lets check descriptive statistics for categorical columns\n",
        "train.describe(include = 'object')"
      ],
      "metadata": {
        "execution": {
          "iopub.status.busy": "2021-09-24T13:21:10.591807Z",
          "iopub.execute_input": "2021-09-24T13:21:10.592043Z",
          "iopub.status.idle": "2021-09-24T13:21:10.679997Z",
          "shell.execute_reply.started": "2021-09-24T13:21:10.592017Z",
          "shell.execute_reply": "2021-09-24T13:21:10.679119Z"
        },
        "trusted": true,
        "colab": {
          "base_uri": "https://localhost:8080/",
          "height": 175
        },
        "id": "YaS-assjU5HF",
        "outputId": "f805afce-3032-4296-c2da-3bf4438726e9"
      },
      "execution_count": null,
      "outputs": [
        {
          "output_type": "execute_result",
          "data": {
            "text/plain": [
              "               department    region   education gender recruitment_channel\n",
              "count               54808     54808       52399  54808               54808\n",
              "unique                  9        34           3      2                   3\n",
              "top     Sales & Marketing  region_2  Bachelor's      m               other\n",
              "freq                16840     12343       36669  38496               30446"
            ],
            "text/html": [
              "\n",
              "  <div id=\"df-52851a52-6bc5-455d-894a-5c503dca7abf\">\n",
              "    <div class=\"colab-df-container\">\n",
              "      <div>\n",
              "<style scoped>\n",
              "    .dataframe tbody tr th:only-of-type {\n",
              "        vertical-align: middle;\n",
              "    }\n",
              "\n",
              "    .dataframe tbody tr th {\n",
              "        vertical-align: top;\n",
              "    }\n",
              "\n",
              "    .dataframe thead th {\n",
              "        text-align: right;\n",
              "    }\n",
              "</style>\n",
              "<table border=\"1\" class=\"dataframe\">\n",
              "  <thead>\n",
              "    <tr style=\"text-align: right;\">\n",
              "      <th></th>\n",
              "      <th>department</th>\n",
              "      <th>region</th>\n",
              "      <th>education</th>\n",
              "      <th>gender</th>\n",
              "      <th>recruitment_channel</th>\n",
              "    </tr>\n",
              "  </thead>\n",
              "  <tbody>\n",
              "    <tr>\n",
              "      <th>count</th>\n",
              "      <td>54808</td>\n",
              "      <td>54808</td>\n",
              "      <td>52399</td>\n",
              "      <td>54808</td>\n",
              "      <td>54808</td>\n",
              "    </tr>\n",
              "    <tr>\n",
              "      <th>unique</th>\n",
              "      <td>9</td>\n",
              "      <td>34</td>\n",
              "      <td>3</td>\n",
              "      <td>2</td>\n",
              "      <td>3</td>\n",
              "    </tr>\n",
              "    <tr>\n",
              "      <th>top</th>\n",
              "      <td>Sales &amp; Marketing</td>\n",
              "      <td>region_2</td>\n",
              "      <td>Bachelor's</td>\n",
              "      <td>m</td>\n",
              "      <td>other</td>\n",
              "    </tr>\n",
              "    <tr>\n",
              "      <th>freq</th>\n",
              "      <td>16840</td>\n",
              "      <td>12343</td>\n",
              "      <td>36669</td>\n",
              "      <td>38496</td>\n",
              "      <td>30446</td>\n",
              "    </tr>\n",
              "  </tbody>\n",
              "</table>\n",
              "</div>\n",
              "      <button class=\"colab-df-convert\" onclick=\"convertToInteractive('df-52851a52-6bc5-455d-894a-5c503dca7abf')\"\n",
              "              title=\"Convert this dataframe to an interactive table.\"\n",
              "              style=\"display:none;\">\n",
              "        \n",
              "  <svg xmlns=\"http://www.w3.org/2000/svg\" height=\"24px\"viewBox=\"0 0 24 24\"\n",
              "       width=\"24px\">\n",
              "    <path d=\"M0 0h24v24H0V0z\" fill=\"none\"/>\n",
              "    <path d=\"M18.56 5.44l.94 2.06.94-2.06 2.06-.94-2.06-.94-.94-2.06-.94 2.06-2.06.94zm-11 1L8.5 8.5l.94-2.06 2.06-.94-2.06-.94L8.5 2.5l-.94 2.06-2.06.94zm10 10l.94 2.06.94-2.06 2.06-.94-2.06-.94-.94-2.06-.94 2.06-2.06.94z\"/><path d=\"M17.41 7.96l-1.37-1.37c-.4-.4-.92-.59-1.43-.59-.52 0-1.04.2-1.43.59L10.3 9.45l-7.72 7.72c-.78.78-.78 2.05 0 2.83L4 21.41c.39.39.9.59 1.41.59.51 0 1.02-.2 1.41-.59l7.78-7.78 2.81-2.81c.8-.78.8-2.07 0-2.86zM5.41 20L4 18.59l7.72-7.72 1.47 1.35L5.41 20z\"/>\n",
              "  </svg>\n",
              "      </button>\n",
              "      \n",
              "  <style>\n",
              "    .colab-df-container {\n",
              "      display:flex;\n",
              "      flex-wrap:wrap;\n",
              "      gap: 12px;\n",
              "    }\n",
              "\n",
              "    .colab-df-convert {\n",
              "      background-color: #E8F0FE;\n",
              "      border: none;\n",
              "      border-radius: 50%;\n",
              "      cursor: pointer;\n",
              "      display: none;\n",
              "      fill: #1967D2;\n",
              "      height: 32px;\n",
              "      padding: 0 0 0 0;\n",
              "      width: 32px;\n",
              "    }\n",
              "\n",
              "    .colab-df-convert:hover {\n",
              "      background-color: #E2EBFA;\n",
              "      box-shadow: 0px 1px 2px rgba(60, 64, 67, 0.3), 0px 1px 3px 1px rgba(60, 64, 67, 0.15);\n",
              "      fill: #174EA6;\n",
              "    }\n",
              "\n",
              "    [theme=dark] .colab-df-convert {\n",
              "      background-color: #3B4455;\n",
              "      fill: #D2E3FC;\n",
              "    }\n",
              "\n",
              "    [theme=dark] .colab-df-convert:hover {\n",
              "      background-color: #434B5C;\n",
              "      box-shadow: 0px 1px 3px 1px rgba(0, 0, 0, 0.15);\n",
              "      filter: drop-shadow(0px 1px 2px rgba(0, 0, 0, 0.3));\n",
              "      fill: #FFFFFF;\n",
              "    }\n",
              "  </style>\n",
              "\n",
              "      <script>\n",
              "        const buttonEl =\n",
              "          document.querySelector('#df-52851a52-6bc5-455d-894a-5c503dca7abf button.colab-df-convert');\n",
              "        buttonEl.style.display =\n",
              "          google.colab.kernel.accessAllowed ? 'block' : 'none';\n",
              "\n",
              "        async function convertToInteractive(key) {\n",
              "          const element = document.querySelector('#df-52851a52-6bc5-455d-894a-5c503dca7abf');\n",
              "          const dataTable =\n",
              "            await google.colab.kernel.invokeFunction('convertToInteractive',\n",
              "                                                     [key], {});\n",
              "          if (!dataTable) return;\n",
              "\n",
              "          const docLinkHtml = 'Like what you see? Visit the ' +\n",
              "            '<a target=\"_blank\" href=https://colab.research.google.com/notebooks/data_table.ipynb>data table notebook</a>'\n",
              "            + ' to learn more about interactive tables.';\n",
              "          element.innerHTML = '';\n",
              "          dataTable['output_type'] = 'display_data';\n",
              "          await google.colab.output.renderOutput(dataTable, element);\n",
              "          const docLink = document.createElement('div');\n",
              "          docLink.innerHTML = docLinkHtml;\n",
              "          element.appendChild(docLink);\n",
              "        }\n",
              "      </script>\n",
              "    </div>\n",
              "  </div>\n",
              "  "
            ]
          },
          "metadata": {},
          "execution_count": 156
        }
      ]
    },
    {
      "cell_type": "code",
      "source": [
        "# lets check the Target Class Balance\n",
        "\n",
        "plt.rcParams['figure.figsize'] = (15, 5)\n",
        "plt.style.use('fivethirtyeight')\n",
        "\n",
        "plt.subplot(1, 2, 1)\n",
        "sns.countplot(train['is_promoted'],)\n",
        "\n",
        "plt.xlabel('Promoted or Not?', fontsize = 10)\n",
        "\n",
        "plt.subplot(1, 2, 2)\n",
        "train['is_promoted'].value_counts().plot(kind = 'pie', explode = [0, 0.1], autopct = '%.2f%%', startangle = 90,\n",
        "                                       labels = ['1','0'], shadow = True, pctdistance = 0.5)\n",
        "plt.axis('off')\n",
        "\n",
        "plt.suptitle('Target Class Balance', fontsize = 15)\n",
        "plt.show()"
      ],
      "metadata": {
        "execution": {
          "iopub.status.busy": "2021-09-24T13:21:10.681136Z",
          "iopub.execute_input": "2021-09-24T13:21:10.681377Z",
          "iopub.status.idle": "2021-09-24T13:21:11.166705Z",
          "shell.execute_reply.started": "2021-09-24T13:21:10.681342Z",
          "shell.execute_reply": "2021-09-24T13:21:11.165516Z"
        },
        "trusted": true,
        "colab": {
          "base_uri": "https://localhost:8080/",
          "height": 503
        },
        "id": "uD-npszSU5HF",
        "outputId": "caa7ceda-3ffe-4778-bb55-d8acd3b82286"
      },
      "execution_count": null,
      "outputs": [
        {
          "output_type": "display_data",
          "data": {
            "text/plain": [
              "<Figure size 1500x500 with 2 Axes>"
            ],
            "image/png": "[encoded data removed]"
          },
          "metadata": {}
        }
      ]
    },
    {
      "cell_type": "markdown",
      "source": [
        "##Working with the Missing Values\n",
        "\n",
        "\n"
      ],
      "metadata": {
        "id": "a8Cj9Xg-U5HG"
      }
    },
    {
      "cell_type": "code",
      "source": [
        "# lets impute the missing values in the Training Data\n",
        "\n",
        "train['education'] = train['education'].fillna(train['education'].mode()[0])\n",
        "train['previous_year_rating'] = train['previous_year_rating'].fillna(train['previous_year_rating'].mode()[0])\n",
        "\n",
        "# lets check whether the Null values are still present or not?\n",
        "print(\"Number of Missing Values Left in the Training Data :\", train.isnull().sum().sum())"
      ],
      "metadata": {
        "execution": {
          "iopub.status.busy": "2021-09-24T13:21:11.289295Z",
          "iopub.execute_input": "2021-09-24T13:21:11.289518Z",
          "iopub.status.idle": "2021-09-24T13:21:11.350412Z",
          "shell.execute_reply.started": "2021-09-24T13:21:11.289492Z",
          "shell.execute_reply": "2021-09-24T13:21:11.349445Z"
        },
        "trusted": true,
        "colab": {
          "base_uri": "https://localhost:8080/"
        },
        "id": "SCwy_T-xU5HH",
        "outputId": "2fc42564-1eaf-47dc-bd09-2b24fc4434c8"
      },
      "execution_count": null,
      "outputs": [
        {
          "output_type": "stream",
          "name": "stdout",
          "text": [
            "Number of Missing Values Left in the Training Data : 0\n"
          ]
        }
      ]
    },
    {
      "cell_type": "code",
      "source": [
        "# lets impute the missing values in the Testing Data\n",
        "\n",
        "test['education'] = test['education'].fillna(test['education'].mode()[0])\n",
        "test['previous_year_rating'] = test['previous_year_rating'].fillna(test['previous_year_rating'].mode()[0])\n",
        "\n",
        "# lets check whether the Null values are still present or not?\n",
        "print(\"Number of Missing Values Left in the Training Data :\", test.isnull().sum().sum())"
      ],
      "metadata": {
        "execution": {
          "iopub.status.busy": "2021-09-24T13:21:11.351769Z",
          "iopub.execute_input": "2021-09-24T13:21:11.352732Z",
          "iopub.status.idle": "2021-09-24T13:21:11.38478Z",
          "shell.execute_reply.started": "2021-09-24T13:21:11.352682Z",
          "shell.execute_reply": "2021-09-24T13:21:11.383795Z"
        },
        "trusted": true,
        "colab": {
          "base_uri": "https://localhost:8080/"
        },
        "id": "MCuZzsPNU5HI",
        "outputId": "3dfce214-ceb9-4eab-e4ae-d130667205e9"
      },
      "execution_count": null,
      "outputs": [
        {
          "output_type": "stream",
          "name": "stdout",
          "text": [
            "Number of Missing Values Left in the Training Data : 0\n"
          ]
        }
      ]
    },
    {
      "cell_type": "code",
      "source": [
        "# Lets first analyze the Numberical Columns\n",
        "train.select_dtypes('number').head()"
      ],
      "metadata": {
        "execution": {
          "iopub.status.busy": "2021-09-24T13:21:11.386238Z",
          "iopub.execute_input": "2021-09-24T13:21:11.38658Z",
          "iopub.status.idle": "2021-09-24T13:21:11.405951Z",
          "shell.execute_reply.started": "2021-09-24T13:21:11.38655Z",
          "shell.execute_reply": "2021-09-24T13:21:11.404532Z"
        },
        "trusted": true,
        "colab": {
          "base_uri": "https://localhost:8080/",
          "height": 206
        },
        "id": "pPeFM-RxU5HJ",
        "outputId": "2c7c6c1f-afbc-4831-b909-e869d30392bf"
      },
      "execution_count": null,
      "outputs": [
        {
          "output_type": "execute_result",
          "data": {
            "text/plain": [
              "   employee_id  no_of_trainings  age  previous_year_rating  length_of_service  \\\n",
              "0        65438                1   35                   5.0                  8   \n",
              "1        65141                1   30                   5.0                  4   \n",
              "2         7513                1   34                   3.0                  7   \n",
              "3         2542                2   39                   1.0                 10   \n",
              "4        48945                1   45                   3.0                  2   \n",
              "\n",
              "   awards_won?  avg_training_score  is_promoted  \n",
              "0            0                  49            0  \n",
              "1            0                  60            0  \n",
              "2            0                  50            0  \n",
              "3            0                  50            0  \n",
              "4            0                  73            0  "
            ],
            "text/html": [
              "\n",
              "  <div id=\"df-78159877-c074-4e92-9c56-0792092ab887\">\n",
              "    <div class=\"colab-df-container\">\n",
              "      <div>\n",
              "<style scoped>\n",
              "    .dataframe tbody tr th:only-of-type {\n",
              "        vertical-align: middle;\n",
              "    }\n",
              "\n",
              "    .dataframe tbody tr th {\n",
              "        vertical-align: top;\n",
              "    }\n",
              "\n",
              "    .dataframe thead th {\n",
              "        text-align: right;\n",
              "    }\n",
              "</style>\n",
              "<table border=\"1\" class=\"dataframe\">\n",
              "  <thead>\n",
              "    <tr style=\"text-align: right;\">\n",
              "      <th></th>\n",
              "      <th>employee_id</th>\n",
              "      <th>no_of_trainings</th>\n",
              "      <th>age</th>\n",
              "      <th>previous_year_rating</th>\n",
              "      <th>length_of_service</th>\n",
              "      <th>awards_won?</th>\n",
              "      <th>avg_training_score</th>\n",
              "      <th>is_promoted</th>\n",
              "    </tr>\n",
              "  </thead>\n",
              "  <tbody>\n",
              "    <tr>\n",
              "      <th>0</th>\n",
              "      <td>65438</td>\n",
              "      <td>1</td>\n",
              "      <td>35</td>\n",
              "      <td>5.0</td>\n",
              "      <td>8</td>\n",
              "      <td>0</td>\n",
              "      <td>49</td>\n",
              "      <td>0</td>\n",
              "    </tr>\n",
              "    <tr>\n",
              "      <th>1</th>\n",
              "      <td>65141</td>\n",
              "      <td>1</td>\n",
              "      <td>30</td>\n",
              "      <td>5.0</td>\n",
              "      <td>4</td>\n",
              "      <td>0</td>\n",
              "      <td>60</td>\n",
              "      <td>0</td>\n",
              "    </tr>\n",
              "    <tr>\n",
              "      <th>2</th>\n",
              "      <td>7513</td>\n",
              "      <td>1</td>\n",
              "      <td>34</td>\n",
              "      <td>3.0</td>\n",
              "      <td>7</td>\n",
              "      <td>0</td>\n",
              "      <td>50</td>\n",
              "      <td>0</td>\n",
              "    </tr>\n",
              "    <tr>\n",
              "      <th>3</th>\n",
              "      <td>2542</td>\n",
              "      <td>2</td>\n",
              "      <td>39</td>\n",
              "      <td>1.0</td>\n",
              "      <td>10</td>\n",
              "      <td>0</td>\n",
              "      <td>50</td>\n",
              "      <td>0</td>\n",
              "    </tr>\n",
              "    <tr>\n",
              "      <th>4</th>\n",
              "      <td>48945</td>\n",
              "      <td>1</td>\n",
              "      <td>45</td>\n",
              "      <td>3.0</td>\n",
              "      <td>2</td>\n",
              "      <td>0</td>\n",
              "      <td>73</td>\n",
              "      <td>0</td>\n",
              "    </tr>\n",
              "  </tbody>\n",
              "</table>\n",
              "</div>\n",
              "      <button class=\"colab-df-convert\" onclick=\"convertToInteractive('df-78159877-c074-4e92-9c56-0792092ab887')\"\n",
              "              title=\"Convert this dataframe to an interactive table.\"\n",
              "              style=\"display:none;\">\n",
              "        \n",
              "  <svg xmlns=\"http://www.w3.org/2000/svg\" height=\"24px\"viewBox=\"0 0 24 24\"\n",
              "       width=\"24px\">\n",
              "    <path d=\"M0 0h24v24H0V0z\" fill=\"none\"/>\n",
              "    <path d=\"M18.56 5.44l.94 2.06.94-2.06 2.06-.94-2.06-.94-.94-2.06-.94 2.06-2.06.94zm-11 1L8.5 8.5l.94-2.06 2.06-.94-2.06-.94L8.5 2.5l-.94 2.06-2.06.94zm10 10l.94 2.06.94-2.06 2.06-.94-2.06-.94-.94-2.06-.94 2.06-2.06.94z\"/><path d=\"M17.41 7.96l-1.37-1.37c-.4-.4-.92-.59-1.43-.59-.52 0-1.04.2-1.43.59L10.3 9.45l-7.72 7.72c-.78.78-.78 2.05 0 2.83L4 21.41c.39.39.9.59 1.41.59.51 0 1.02-.2 1.41-.59l7.78-7.78 2.81-2.81c.8-.78.8-2.07 0-2.86zM5.41 20L4 18.59l7.72-7.72 1.47 1.35L5.41 20z\"/>\n",
              "  </svg>\n",
              "      </button>\n",
              "      \n",
              "  <style>\n",
              "    .colab-df-container {\n",
              "      display:flex;\n",
              "      flex-wrap:wrap;\n",
              "      gap: 12px;\n",
              "    }\n",
              "\n",
              "    .colab-df-convert {\n",
              "      background-color: #E8F0FE;\n",
              "      border: none;\n",
              "      border-radius: 50%;\n",
              "      cursor: pointer;\n",
              "      display: none;\n",
              "      fill: #1967D2;\n",
              "      height: 32px;\n",
              "      padding: 0 0 0 0;\n",
              "      width: 32px;\n",
              "    }\n",
              "\n",
              "    .colab-df-convert:hover {\n",
              "      background-color: #E2EBFA;\n",
              "      box-shadow: 0px 1px 2px rgba(60, 64, 67, 0.3), 0px 1px 3px 1px rgba(60, 64, 67, 0.15);\n",
              "      fill: #174EA6;\n",
              "    }\n",
              "\n",
              "    [theme=dark] .colab-df-convert {\n",
              "      background-color: #3B4455;\n",
              "      fill: #D2E3FC;\n",
              "    }\n",
              "\n",
              "    [theme=dark] .colab-df-convert:hover {\n",
              "      background-color: #434B5C;\n",
              "      box-shadow: 0px 1px 3px 1px rgba(0, 0, 0, 0.15);\n",
              "      filter: drop-shadow(0px 1px 2px rgba(0, 0, 0, 0.3));\n",
              "      fill: #FFFFFF;\n",
              "    }\n",
              "  </style>\n",
              "\n",
              "      <script>\n",
              "        const buttonEl =\n",
              "          document.querySelector('#df-78159877-c074-4e92-9c56-0792092ab887 button.colab-df-convert');\n",
              "        buttonEl.style.display =\n",
              "          google.colab.kernel.accessAllowed ? 'block' : 'none';\n",
              "\n",
              "        async function convertToInteractive(key) {\n",
              "          const element = document.querySelector('#df-78159877-c074-4e92-9c56-0792092ab887');\n",
              "          const dataTable =\n",
              "            await google.colab.kernel.invokeFunction('convertToInteractive',\n",
              "                                                     [key], {});\n",
              "          if (!dataTable) return;\n",
              "\n",
              "          const docLinkHtml = 'Like what you see? Visit the ' +\n",
              "            '<a target=\"_blank\" href=https://colab.research.google.com/notebooks/data_table.ipynb>data table notebook</a>'\n",
              "            + ' to learn more about interactive tables.';\n",
              "          element.innerHTML = '';\n",
              "          dataTable['output_type'] = 'display_data';\n",
              "          await google.colab.output.renderOutput(dataTable, element);\n",
              "          const docLink = document.createElement('div');\n",
              "          docLink.innerHTML = docLinkHtml;\n",
              "          element.appendChild(docLink);\n",
              "        }\n",
              "      </script>\n",
              "    </div>\n",
              "  </div>\n",
              "  "
            ]
          },
          "metadata": {},
          "execution_count": 160
        }
      ]
    },
    {
      "cell_type": "code",
      "source": [
        "# lets remove the outliers from the length of service column\n",
        "\n",
        "train = train[train['length_of_service'] > 13]"
      ],
      "metadata": {
        "execution": {
          "iopub.status.busy": "2021-09-24T13:21:11.772928Z",
          "iopub.execute_input": "2021-09-24T13:21:11.773333Z",
          "iopub.status.idle": "2021-09-24T13:21:11.781469Z",
          "shell.execute_reply.started": "2021-09-24T13:21:11.773222Z",
          "shell.execute_reply": "2021-09-24T13:21:11.780396Z"
        },
        "trusted": true,
        "id": "EkuNAOQWU5HL"
      },
      "execution_count": null,
      "outputs": []
    },
    {
      "cell_type": "markdown",
      "source": [
        "## Univariate Analysis\n",
        "\n",
        "Univariate analysis is perhaps the simplest form of statistical analysis. Like other forms of statistics, it can be inferential or descriptive. "
      ],
      "metadata": {
        "id": "rnkJvJliU5HM"
      }
    },
    {
      "cell_type": "code",
      "source": [
        "# lets plot pie chart for the columns where we have very few categories\n",
        "plt.rcParams['figure.figsize'] = (16,5)\n",
        "plt.style.use('fivethirtyeight')\n",
        "\n",
        "# plotting a pie chart to represent share of Previous year Rating of the Employees\n",
        "\"\"\"\n",
        "plt.subplot(1, 3, 1)\n",
        "labels = ['0','1']\n",
        "sizes = train['KPIs_met >80%'].value_counts()\n",
        "colors = plt.cm.Wistia(np.linspace(0, 1, 5))\n",
        "explode = [0, 0]\n",
        "\n",
        "plt.pie(sizes, labels = labels, colors = colors, explode = explode, shadow = True, startangle = 90)\n",
        "plt.title('KPIs Met > 80%', fontsize = 20)\n",
        "\"\"\"\n",
        "\n",
        "# plotting a pie chart to represent share of Previous year Rating of the Employees\n",
        "plt.subplot(1, 3, 2)\n",
        "labels = ['1', '2', '3', '4', '5']\n",
        "sizes = train['previous_year_rating'].value_counts()\n",
        "colors = plt.cm.Wistia(np.linspace(0, 1, 5))\n",
        "explode = [0, 0, 0, 0, 0.1]\n",
        "\n",
        "plt.pie(sizes, labels = labels, colors = colors, explode = explode, shadow = True, startangle = 90)\n",
        "plt.title('Previous year Ratings', fontsize = 20)\n",
        "\n",
        "# plotting a pie chart to represent share of Previous year Rating of the Employees\n",
        "plt.subplot(1, 3, 3)\n",
        "labels = ['0', '1']\n",
        "sizes = train['awards_won?'].value_counts()\n",
        "colors = plt.cm.Wistia(np.linspace(0, 1, 5))\n",
        "explode = [0,0.1]\n",
        "\n",
        "plt.pie(sizes, labels = labels, colors = colors, explode = explode, shadow = True, startangle = 90)\n",
        "plt.title('Awards Won?', fontsize = 20)\n",
        "\n",
        "\n",
        "plt.legend()\n",
        "plt.show()"
      ],
      "metadata": {
        "execution": {
          "iopub.status.busy": "2021-09-24T13:21:11.782745Z",
          "iopub.execute_input": "2021-09-24T13:21:11.783032Z",
          "iopub.status.idle": "2021-09-24T13:21:12.163396Z",
          "shell.execute_reply.started": "2021-09-24T13:21:11.783002Z",
          "shell.execute_reply": "2021-09-24T13:21:12.16247Z"
        },
        "trusted": true,
        "colab": {
          "base_uri": "https://localhost:8080/",
          "height": 472
        },
        "id": "avn3hUKdU5HM",
        "outputId": "a84ad9b2-158a-4907-8852-c8439358a217"
      },
      "execution_count": null,
      "outputs": [
        {
          "output_type": "display_data",
          "data": {
            "text/plain": [
              "<Figure size 1600x500 with 2 Axes>"
            ],
            "image/png": "[encoded data removed]"
          },
          "metadata": {}
        }
      ]
    },
    {
      "cell_type": "code",
      "source": [
        "# lets check the Age of the Employees\n",
        "\n",
        "plt.rcParams['figure.figsize'] = (8, 4)\n",
        "plt.hist(train['age'], color = 'black')\n",
        "plt.title('Distribution of Age among the Employees', fontsize = 15)\n",
        "plt.xlabel('Age of the Employees')\n",
        "plt.grid()\n",
        "plt.show()"
      ],
      "metadata": {
        "execution": {
          "iopub.status.busy": "2021-09-24T13:21:12.394989Z",
          "iopub.execute_input": "2021-09-24T13:21:12.395354Z",
          "iopub.status.idle": "2021-09-24T13:21:12.632025Z",
          "shell.execute_reply.started": "2021-09-24T13:21:12.395312Z",
          "shell.execute_reply": "2021-09-24T13:21:12.631232Z"
        },
        "trusted": true,
        "colab": {
          "base_uri": "https://localhost:8080/",
          "height": 437
        },
        "id": "hJMU8uMiU5HN",
        "outputId": "336fc78a-298e-4dee-81b0-5988332ea2db"
      },
      "execution_count": null,
      "outputs": [
        {
          "output_type": "display_data",
          "data": {
            "text/plain": [
              "<Figure size 800x400 with 1 Axes>"
            ],
            "image/png": "[encoded data removed]"
          },
          "metadata": {}
        }
      ]
    },
    {
      "cell_type": "code",
      "source": [
        "# lets check different Departments\n",
        "\n",
        "plt.rcParams['figure.figsize'] = (12, 6)\n",
        "sns.countplot(y = train['department'], palette = 'cividis', orient = 'v')\n",
        "plt.xlabel('')\n",
        "plt.ylabel('Department Name')\n",
        "plt.title('Distribution of Employees in Different Departments', fontsize = 15)\n",
        "plt.grid()\n",
        "\n",
        "plt.show()"
      ],
      "metadata": {
        "execution": {
          "iopub.status.busy": "2021-09-24T13:21:12.633582Z",
          "iopub.execute_input": "2021-09-24T13:21:12.634155Z",
          "iopub.status.idle": "2021-09-24T13:21:12.934099Z",
          "shell.execute_reply.started": "2021-09-24T13:21:12.63411Z",
          "shell.execute_reply": "2021-09-24T13:21:12.933085Z"
        },
        "trusted": true,
        "colab": {
          "base_uri": "https://localhost:8080/",
          "height": 558
        },
        "id": "3cDwMRhpU5HO",
        "outputId": "7499a138-ff86-4f29-994a-bc854034d1a8"
      },
      "execution_count": null,
      "outputs": [
        {
          "output_type": "display_data",
          "data": {
            "text/plain": [
              "<Figure size 1200x600 with 1 Axes>"
            ],
            "image/png": "[encoded data removed]"
          },
          "metadata": {}
        }
      ]
    },
    {
      "cell_type": "code",
      "source": [
        "# lets check distribution of different Regions\n",
        "\n",
        "plt.rcParams['figure.figsize'] = (12,15)\n",
        "plt.style.use('fivethirtyeight')\n",
        "sns.countplot(y = train['region'], palette = 'inferno', orient = 'v')\n",
        "plt.xlabel('')\n",
        "plt.ylabel('Region')\n",
        "plt.title('Different Regions', fontsize = 15)\n",
        "plt.xticks(rotation = 90)\n",
        "plt.grid()\n",
        "plt.show()"
      ],
      "metadata": {
        "execution": {
          "iopub.status.busy": "2021-09-24T13:21:12.935701Z",
          "iopub.execute_input": "2021-09-24T13:21:12.936237Z",
          "iopub.status.idle": "2021-09-24T13:21:13.448891Z",
          "shell.execute_reply.started": "2021-09-24T13:21:12.936188Z",
          "shell.execute_reply": "2021-09-24T13:21:13.448035Z"
        },
        "trusted": true,
        "colab": {
          "base_uri": "https://localhost:8080/",
          "height": 1000
        },
        "id": "rv1L4Ca5U5HO",
        "outputId": "0830758f-696c-450b-e987-491ec4eba543"
      },
      "execution_count": null,
      "outputs": [
        {
          "output_type": "display_data",
          "data": {
            "text/plain": [
              "<Figure size 1200x1500 with 1 Axes>"
            ],
            "image/png": "[encoded data removed]"
          },
          "metadata": {}
        }
      ]
    },
    {
      "cell_type": "markdown",
      "source": [
        "## Bivariate Analysis\n",
        "\n",
        "Bivariate analysis is one of the simplest forms of quantitative analysis. It involves the analysis of two variables, for the purpose of determining the empirical relationship between them. \n",
        "    \n"
      ],
      "metadata": {
        "id": "-_zser8cU5HP"
      }
    },
    {
      "cell_type": "code",
      "source": [
        "# Lets compare the Gender Gap in the promotion\n",
        "\n",
        "import warnings\n",
        "warnings.filterwarnings('ignore')\n",
        "\n",
        "plt.rcParams['figure.figsize'] = (15, 3)\n",
        "x = pd.crosstab(train['gender'], train['is_promoted'])\n",
        "colors = plt.cm.Wistia(np.linspace(0, 1, 5))\n",
        "x.div(x.sum(1).astype(float), axis = 0).plot(kind = 'bar', stacked = False)\n",
        "plt.title('Effect of Gender on Promotion', fontsize = 15)\n",
        "plt.xlabel(' ')\n",
        "plt.show()"
      ],
      "metadata": {
        "execution": {
          "iopub.status.busy": "2021-09-24T13:21:13.80576Z",
          "iopub.status.idle": "2021-09-24T13:21:13.806119Z",
          "shell.execute_reply.started": "2021-09-24T13:21:13.805941Z",
          "shell.execute_reply": "2021-09-24T13:21:13.805959Z"
        },
        "trusted": true,
        "colab": {
          "base_uri": "https://localhost:8080/",
          "height": 327
        },
        "id": "sWngcoZgU5HP",
        "outputId": "04435283-dd33-4a7a-fce6-2e8d03c7584a"
      },
      "execution_count": null,
      "outputs": [
        {
          "output_type": "display_data",
          "data": {
            "text/plain": [
              "<Figure size 1500x300 with 1 Axes>"
            ],
            "image/png": "[encoded data removed]"
          },
          "metadata": {}
        }
      ]
    },
    {
      "cell_type": "code",
      "source": [
        "# lets compare the effect of different Departments and Promotion\n",
        "\n",
        "plt.rcParams['figure.figsize'] = (15,4)\n",
        "x = pd.crosstab(train['department'], train['is_promoted'])\n",
        "colors = plt.cm.copper(np.linspace(0, 1, 3))\n",
        "x.div(x.sum(1).astype(float), axis = 0).plot(kind = 'area', stacked = False)\n",
        "plt.title('Effect of Department on Promotion', fontsize = 15)\n",
        "plt.xticks(rotation = 20)\n",
        "plt.xlabel(' ')\n",
        "plt.show()"
      ],
      "metadata": {
        "execution": {
          "iopub.status.busy": "2021-09-24T13:21:13.807368Z",
          "iopub.status.idle": "2021-09-24T13:21:13.807687Z",
          "shell.execute_reply.started": "2021-09-24T13:21:13.807524Z",
          "shell.execute_reply": "2021-09-24T13:21:13.80754Z"
        },
        "trusted": true,
        "colab": {
          "base_uri": "https://localhost:8080/",
          "height": 456
        },
        "id": "zoE8eB8tU5HQ",
        "outputId": "cca0eb31-3fda-4dd7-bc91-4c0d3925d1f2"
      },
      "execution_count": null,
      "outputs": [
        {
          "output_type": "display_data",
          "data": {
            "text/plain": [
              "<Figure size 1500x400 with 1 Axes>"
            ],
            "image/png": "[encoded data removed]"
          },
          "metadata": {}
        }
      ]
    },
    {
      "cell_type": "raw",
      "source": [
        "From, the above chart we can see that almost all the Departments have a very similar effect on Promotion. So, we can consider that all the Departments have a similar effect on the promotion. Also, this column comes out to be lesser important in making a Machine Learning Model, as it does not contribute at all when it comes to Predicting whether the Employee should get Promotion."
      ],
      "metadata": {
        "id": "N5UvPzyWU5HQ"
      }
    },
    {
      "cell_type": "markdown",
      "source": [
        "## Multivariate Analysis\n",
        "\n",
        "Multivariate analysis is based on the principles of multivariate statistics, which involves observation and analysis of more than one statistical outcome variable at a time.\n",
        "\n",
        "* First, we will use the Correlation Heatmap to check the correlation between the Numerical Columns\n",
        "* Then we will check the ppscore or the Predictive Score to check the correlation between all the columns present in the data.\n",
        "* Then, we will use Bubble Charts, split Violin plots, Hue with Bivariate Plots."
      ],
      "metadata": {
        "id": "iwIvBHJaU5HR"
      }
    },
    {
      "cell_type": "code",
      "source": [
        "# lets check the Heat Map for the Data with respect to correlation.\n",
        "\n",
        "plt.rcParams['figure.figsize'] = (15, 8)\n",
        "sns.heatmap(train.corr(), annot = True, linewidth = 0.5, cmap = 'Wistia')\n",
        "plt.title('Correlation Heat Map', fontsize = 15)\n",
        "plt.show()"
      ],
      "metadata": {
        "execution": {
          "iopub.status.busy": "2021-09-24T13:21:13.811618Z",
          "iopub.status.idle": "2021-09-24T13:21:13.811937Z",
          "shell.execute_reply.started": "2021-09-24T13:21:13.811768Z",
          "shell.execute_reply": "2021-09-24T13:21:13.811783Z"
        },
        "trusted": true,
        "colab": {
          "base_uri": "https://localhost:8080/",
          "height": 814
        },
        "id": "LyW8zmkrU5HR",
        "outputId": "335077b4-1e5c-47e7-e0f6-4492c607a7a6"
      },
      "execution_count": null,
      "outputs": [
        {
          "output_type": "display_data",
          "data": {
            "text/plain": [
              "<Figure size 1500x800 with 2 Axes>"
            ],
            "image/png": "[encoded data removed]"
          },
          "metadata": {}
        }
      ]
    },
    {
      "cell_type": "markdown",
      "source": [
        "## ML Model Evaluation\n",
        "\n"
      ],
      "metadata": {
        "id": "3f-rIYJEU5HS"
      }
    },
    {
      "cell_type": "code",
      "source": [
        "\n",
        "\n",
        "train = train.drop(['recruitment_channel', 'region', 'employee_id'], axis = 1)\n",
        "test = test.drop(['recruitment_channel', 'region', 'employee_id'], axis = 1)\n",
        "\n",
        "# lets check the columns in train and test data set after feature engineering\n",
        "train.columns"
      ],
      "metadata": {
        "execution": {
          "iopub.status.busy": "2021-09-24T13:21:13.81661Z",
          "iopub.status.idle": "2021-09-24T13:21:13.816947Z",
          "shell.execute_reply.started": "2021-09-24T13:21:13.816761Z",
          "shell.execute_reply": "2021-09-24T13:21:13.816784Z"
        },
        "trusted": true,
        "colab": {
          "base_uri": "https://localhost:8080/"
        },
        "id": "bF7YP8Y-U5HS",
        "outputId": "42c956f3-bcdf-4283-af85-d5a08b80da8f"
      },
      "execution_count": null,
      "outputs": [
        {
          "output_type": "execute_result",
          "data": {
            "text/plain": [
              "Index(['department', 'education', 'gender', 'no_of_trainings', 'age',\n",
              "       'previous_year_rating', 'length_of_service', 'awards_won?',\n",
              "       'avg_training_score', 'is_promoted'],\n",
              "      dtype='object')"
            ]
          },
          "metadata": {},
          "execution_count": 169
        }
      ]
    },
    {
      "cell_type": "code",
      "source": [
        "## Lets check the categorical columns present in the data\n",
        "train.select_dtypes('object').head()"
      ],
      "metadata": {
        "execution": {
          "iopub.status.busy": "2021-09-24T13:21:13.821564Z",
          "iopub.status.idle": "2021-09-24T13:21:13.821918Z",
          "shell.execute_reply.started": "2021-09-24T13:21:13.821728Z",
          "shell.execute_reply": "2021-09-24T13:21:13.82175Z"
        },
        "trusted": true,
        "colab": {
          "base_uri": "https://localhost:8080/",
          "height": 206
        },
        "id": "0VYUvIBBU5HU",
        "outputId": "8c7957b8-272a-4c31-9ee8-6427eb96ab75"
      },
      "execution_count": null,
      "outputs": [
        {
          "output_type": "execute_result",
          "data": {
            "text/plain": [
              "           department         education gender\n",
              "13         Technology  Master's & above      m\n",
              "42                 HR        Bachelor's      m\n",
              "60  Sales & Marketing  Master's & above      m\n",
              "74  Sales & Marketing        Bachelor's      m\n",
              "99            Finance  Master's & above      m"
            ],
            "text/html": [
              "\n",
              "  <div id=\"df-461b5511-2bed-4059-b3a0-6e388bc06f57\">\n",
              "    <div class=\"colab-df-container\">\n",
              "      <div>\n",
              "<style scoped>\n",
              "    .dataframe tbody tr th:only-of-type {\n",
              "        vertical-align: middle;\n",
              "    }\n",
              "\n",
              "    .dataframe tbody tr th {\n",
              "        vertical-align: top;\n",
              "    }\n",
              "\n",
              "    .dataframe thead th {\n",
              "        text-align: right;\n",
              "    }\n",
              "</style>\n",
              "<table border=\"1\" class=\"dataframe\">\n",
              "  <thead>\n",
              "    <tr style=\"text-align: right;\">\n",
              "      <th></th>\n",
              "      <th>department</th>\n",
              "      <th>education</th>\n",
              "      <th>gender</th>\n",
              "    </tr>\n",
              "  </thead>\n",
              "  <tbody>\n",
              "    <tr>\n",
              "      <th>13</th>\n",
              "      <td>Technology</td>\n",
              "      <td>Master's &amp; above</td>\n",
              "      <td>m</td>\n",
              "    </tr>\n",
              "    <tr>\n",
              "      <th>42</th>\n",
              "      <td>HR</td>\n",
              "      <td>Bachelor's</td>\n",
              "      <td>m</td>\n",
              "    </tr>\n",
              "    <tr>\n",
              "      <th>60</th>\n",
              "      <td>Sales &amp; Marketing</td>\n",
              "      <td>Master's &amp; above</td>\n",
              "      <td>m</td>\n",
              "    </tr>\n",
              "    <tr>\n",
              "      <th>74</th>\n",
              "      <td>Sales &amp; Marketing</td>\n",
              "      <td>Bachelor's</td>\n",
              "      <td>m</td>\n",
              "    </tr>\n",
              "    <tr>\n",
              "      <th>99</th>\n",
              "      <td>Finance</td>\n",
              "      <td>Master's &amp; above</td>\n",
              "      <td>m</td>\n",
              "    </tr>\n",
              "  </tbody>\n",
              "</table>\n",
              "</div>\n",
              "      <button class=\"colab-df-convert\" onclick=\"convertToInteractive('df-461b5511-2bed-4059-b3a0-6e388bc06f57')\"\n",
              "              title=\"Convert this dataframe to an interactive table.\"\n",
              "              style=\"display:none;\">\n",
              "        \n",
              "  <svg xmlns=\"http://www.w3.org/2000/svg\" height=\"24px\"viewBox=\"0 0 24 24\"\n",
              "       width=\"24px\">\n",
              "    <path d=\"M0 0h24v24H0V0z\" fill=\"none\"/>\n",
              "    <path d=\"M18.56 5.44l.94 2.06.94-2.06 2.06-.94-2.06-.94-.94-2.06-.94 2.06-2.06.94zm-11 1L8.5 8.5l.94-2.06 2.06-.94-2.06-.94L8.5 2.5l-.94 2.06-2.06.94zm10 10l.94 2.06.94-2.06 2.06-.94-2.06-.94-.94-2.06-.94 2.06-2.06.94z\"/><path d=\"M17.41 7.96l-1.37-1.37c-.4-.4-.92-.59-1.43-.59-.52 0-1.04.2-1.43.59L10.3 9.45l-7.72 7.72c-.78.78-.78 2.05 0 2.83L4 21.41c.39.39.9.59 1.41.59.51 0 1.02-.2 1.41-.59l7.78-7.78 2.81-2.81c.8-.78.8-2.07 0-2.86zM5.41 20L4 18.59l7.72-7.72 1.47 1.35L5.41 20z\"/>\n",
              "  </svg>\n",
              "      </button>\n",
              "      \n",
              "  <style>\n",
              "    .colab-df-container {\n",
              "      display:flex;\n",
              "      flex-wrap:wrap;\n",
              "      gap: 12px;\n",
              "    }\n",
              "\n",
              "    .colab-df-convert {\n",
              "      background-color: #E8F0FE;\n",
              "      border: none;\n",
              "      border-radius: 50%;\n",
              "      cursor: pointer;\n",
              "      display: none;\n",
              "      fill: #1967D2;\n",
              "      height: 32px;\n",
              "      padding: 0 0 0 0;\n",
              "      width: 32px;\n",
              "    }\n",
              "\n",
              "    .colab-df-convert:hover {\n",
              "      background-color: #E2EBFA;\n",
              "      box-shadow: 0px 1px 2px rgba(60, 64, 67, 0.3), 0px 1px 3px 1px rgba(60, 64, 67, 0.15);\n",
              "      fill: #174EA6;\n",
              "    }\n",
              "\n",
              "    [theme=dark] .colab-df-convert {\n",
              "      background-color: #3B4455;\n",
              "      fill: #D2E3FC;\n",
              "    }\n",
              "\n",
              "    [theme=dark] .colab-df-convert:hover {\n",
              "      background-color: #434B5C;\n",
              "      box-shadow: 0px 1px 3px 1px rgba(0, 0, 0, 0.15);\n",
              "      filter: drop-shadow(0px 1px 2px rgba(0, 0, 0, 0.3));\n",
              "      fill: #FFFFFF;\n",
              "    }\n",
              "  </style>\n",
              "\n",
              "      <script>\n",
              "        const buttonEl =\n",
              "          document.querySelector('#df-461b5511-2bed-4059-b3a0-6e388bc06f57 button.colab-df-convert');\n",
              "        buttonEl.style.display =\n",
              "          google.colab.kernel.accessAllowed ? 'block' : 'none';\n",
              "\n",
              "        async function convertToInteractive(key) {\n",
              "          const element = document.querySelector('#df-461b5511-2bed-4059-b3a0-6e388bc06f57');\n",
              "          const dataTable =\n",
              "            await google.colab.kernel.invokeFunction('convertToInteractive',\n",
              "                                                     [key], {});\n",
              "          if (!dataTable) return;\n",
              "\n",
              "          const docLinkHtml = 'Like what you see? Visit the ' +\n",
              "            '<a target=\"_blank\" href=https://colab.research.google.com/notebooks/data_table.ipynb>data table notebook</a>'\n",
              "            + ' to learn more about interactive tables.';\n",
              "          element.innerHTML = '';\n",
              "          dataTable['output_type'] = 'display_data';\n",
              "          await google.colab.output.renderOutput(dataTable, element);\n",
              "          const docLink = document.createElement('div');\n",
              "          docLink.innerHTML = docLinkHtml;\n",
              "          element.appendChild(docLink);\n",
              "        }\n",
              "      </script>\n",
              "    </div>\n",
              "  </div>\n",
              "  "
            ]
          },
          "metadata": {},
          "execution_count": 170
        }
      ]
    },
    {
      "cell_type": "code",
      "source": [
        "# lets check the value counts for the education column\n",
        "train['education'].value_counts()"
      ],
      "metadata": {
        "execution": {
          "iopub.status.busy": "2021-09-24T13:21:13.822947Z",
          "iopub.status.idle": "2021-09-24T13:21:13.823355Z",
          "shell.execute_reply.started": "2021-09-24T13:21:13.82311Z",
          "shell.execute_reply": "2021-09-24T13:21:13.82316Z"
        },
        "trusted": true,
        "colab": {
          "base_uri": "https://localhost:8080/"
        },
        "id": "uzy8Nq4YU5HU",
        "outputId": "62d96406-97d5-4060-d6f9-ca08be5a8a09"
      },
      "execution_count": null,
      "outputs": [
        {
          "output_type": "execute_result",
          "data": {
            "text/plain": [
              "Master's & above    1759\n",
              "Bachelor's          1730\n",
              "Name: education, dtype: int64"
            ]
          },
          "metadata": {},
          "execution_count": 171
        }
      ]
    },
    {
      "cell_type": "code",
      "source": [
        "# lets start encoding these categorical columns to convert them into numerical columns\n",
        "\n",
        "# lets encode the education in their degree of importance \n",
        "train['education'] = train['education'].replace((\"Master's & above\", \"Bachelor's\", \"Below Secondary\"),\n",
        "                                                (3, 2, 1))\n",
        "test['education'] = test['education'].replace((\"Master's & above\", \"Bachelor's\", \"Below Secondary\"),\n",
        "                                                (3, 2, 1))\n",
        "\n",
        "# lets use Label Encoding for Gender and Department to convert them into Numerical\n",
        "from sklearn.preprocessing import LabelEncoder\n",
        "\n",
        "le = LabelEncoder()\n",
        "train['department'] = le.fit_transform(train['department'])\n",
        "test['department'] = le.fit_transform(test['department'])\n",
        "train['gender'] = le.fit_transform(train['gender'])\n",
        "test['gender'] = le.fit_transform(test['gender'])\n",
        "\n",
        "# lets check whether we still have any categorical columns left after encoding\n",
        "print(train.select_dtypes('object').columns)\n",
        "print(test.select_dtypes('object').columns)"
      ],
      "metadata": {
        "execution": {
          "iopub.status.busy": "2021-09-24T13:21:13.824551Z",
          "iopub.status.idle": "2021-09-24T13:21:13.824916Z",
          "shell.execute_reply.started": "2021-09-24T13:21:13.824717Z",
          "shell.execute_reply": "2021-09-24T13:21:13.824741Z"
        },
        "trusted": true,
        "colab": {
          "base_uri": "https://localhost:8080/"
        },
        "id": "JfwD2KRvU5HU",
        "outputId": "06e2aaf8-391b-4546-f7cb-35b33bbfda1c"
      },
      "execution_count": null,
      "outputs": [
        {
          "output_type": "stream",
          "name": "stdout",
          "text": [
            "Index([], dtype='object')\n",
            "Index([], dtype='object')\n"
          ]
        }
      ]
    },
    {
      "cell_type": "code",
      "source": [
        "# lets check the data after encoding\n",
        "train.head(3)"
      ],
      "metadata": {
        "execution": {
          "iopub.status.busy": "2021-09-24T13:21:13.826356Z",
          "iopub.status.idle": "2021-09-24T13:21:13.826761Z",
          "shell.execute_reply.started": "2021-09-24T13:21:13.826551Z",
          "shell.execute_reply": "2021-09-24T13:21:13.826577Z"
        },
        "trusted": true,
        "colab": {
          "base_uri": "https://localhost:8080/",
          "height": 143
        },
        "id": "cWJAabEOU5HV",
        "outputId": "e32cf319-01dc-45ca-da7e-d2d045e9a3c9"
      },
      "execution_count": null,
      "outputs": [
        {
          "output_type": "execute_result",
          "data": {
            "text/plain": [
              "    department  education  gender  no_of_trainings  age  previous_year_rating  \\\n",
              "13           8          3       1                2   39                   3.0   \n",
              "42           2          2       1                1   59                   4.0   \n",
              "60           7          3       1                1   50                   4.0   \n",
              "\n",
              "    length_of_service  awards_won?  avg_training_score  is_promoted  \n",
              "13                 16            0                  80            0  \n",
              "42                 26            0                  52            0  \n",
              "60                 17            0                  47            1  "
            ],
            "text/html": [
              "\n",
              "  <div id=\"df-40a0f04c-faa3-40f2-9ef8-0ef8f119daa4\">\n",
              "    <div class=\"colab-df-container\">\n",
              "      <div>\n",
              "<style scoped>\n",
              "    .dataframe tbody tr th:only-of-type {\n",
              "        vertical-align: middle;\n",
              "    }\n",
              "\n",
              "    .dataframe tbody tr th {\n",
              "        vertical-align: top;\n",
              "    }\n",
              "\n",
              "    .dataframe thead th {\n",
              "        text-align: right;\n",
              "    }\n",
              "</style>\n",
              "<table border=\"1\" class=\"dataframe\">\n",
              "  <thead>\n",
              "    <tr style=\"text-align: right;\">\n",
              "      <th></th>\n",
              "      <th>department</th>\n",
              "      <th>education</th>\n",
              "      <th>gender</th>\n",
              "      <th>no_of_trainings</th>\n",
              "      <th>age</th>\n",
              "      <th>previous_year_rating</th>\n",
              "      <th>length_of_service</th>\n",
              "      <th>awards_won?</th>\n",
              "      <th>avg_training_score</th>\n",
              "      <th>is_promoted</th>\n",
              "    </tr>\n",
              "  </thead>\n",
              "  <tbody>\n",
              "    <tr>\n",
              "      <th>13</th>\n",
              "      <td>8</td>\n",
              "      <td>3</td>\n",
              "      <td>1</td>\n",
              "      <td>2</td>\n",
              "      <td>39</td>\n",
              "      <td>3.0</td>\n",
              "      <td>16</td>\n",
              "      <td>0</td>\n",
              "      <td>80</td>\n",
              "      <td>0</td>\n",
              "    </tr>\n",
              "    <tr>\n",
              "      <th>42</th>\n",
              "      <td>2</td>\n",
              "      <td>2</td>\n",
              "      <td>1</td>\n",
              "      <td>1</td>\n",
              "      <td>59</td>\n",
              "      <td>4.0</td>\n",
              "      <td>26</td>\n",
              "      <td>0</td>\n",
              "      <td>52</td>\n",
              "      <td>0</td>\n",
              "    </tr>\n",
              "    <tr>\n",
              "      <th>60</th>\n",
              "      <td>7</td>\n",
              "      <td>3</td>\n",
              "      <td>1</td>\n",
              "      <td>1</td>\n",
              "      <td>50</td>\n",
              "      <td>4.0</td>\n",
              "      <td>17</td>\n",
              "      <td>0</td>\n",
              "      <td>47</td>\n",
              "      <td>1</td>\n",
              "    </tr>\n",
              "  </tbody>\n",
              "</table>\n",
              "</div>\n",
              "      <button class=\"colab-df-convert\" onclick=\"convertToInteractive('df-40a0f04c-faa3-40f2-9ef8-0ef8f119daa4')\"\n",
              "              title=\"Convert this dataframe to an interactive table.\"\n",
              "              style=\"display:none;\">\n",
              "        \n",
              "  <svg xmlns=\"http://www.w3.org/2000/svg\" height=\"24px\"viewBox=\"0 0 24 24\"\n",
              "       width=\"24px\">\n",
              "    <path d=\"M0 0h24v24H0V0z\" fill=\"none\"/>\n",
              "    <path d=\"M18.56 5.44l.94 2.06.94-2.06 2.06-.94-2.06-.94-.94-2.06-.94 2.06-2.06.94zm-11 1L8.5 8.5l.94-2.06 2.06-.94-2.06-.94L8.5 2.5l-.94 2.06-2.06.94zm10 10l.94 2.06.94-2.06 2.06-.94-2.06-.94-.94-2.06-.94 2.06-2.06.94z\"/><path d=\"M17.41 7.96l-1.37-1.37c-.4-.4-.92-.59-1.43-.59-.52 0-1.04.2-1.43.59L10.3 9.45l-7.72 7.72c-.78.78-.78 2.05 0 2.83L4 21.41c.39.39.9.59 1.41.59.51 0 1.02-.2 1.41-.59l7.78-7.78 2.81-2.81c.8-.78.8-2.07 0-2.86zM5.41 20L4 18.59l7.72-7.72 1.47 1.35L5.41 20z\"/>\n",
              "  </svg>\n",
              "      </button>\n",
              "      \n",
              "  <style>\n",
              "    .colab-df-container {\n",
              "      display:flex;\n",
              "      flex-wrap:wrap;\n",
              "      gap: 12px;\n",
              "    }\n",
              "\n",
              "    .colab-df-convert {\n",
              "      background-color: #E8F0FE;\n",
              "      border: none;\n",
              "      border-radius: 50%;\n",
              "      cursor: pointer;\n",
              "      display: none;\n",
              "      fill: #1967D2;\n",
              "      height: 32px;\n",
              "      padding: 0 0 0 0;\n",
              "      width: 32px;\n",
              "    }\n",
              "\n",
              "    .colab-df-convert:hover {\n",
              "      background-color: #E2EBFA;\n",
              "      box-shadow: 0px 1px 2px rgba(60, 64, 67, 0.3), 0px 1px 3px 1px rgba(60, 64, 67, 0.15);\n",
              "      fill: #174EA6;\n",
              "    }\n",
              "\n",
              "    [theme=dark] .colab-df-convert {\n",
              "      background-color: #3B4455;\n",
              "      fill: #D2E3FC;\n",
              "    }\n",
              "\n",
              "    [theme=dark] .colab-df-convert:hover {\n",
              "      background-color: #434B5C;\n",
              "      box-shadow: 0px 1px 3px 1px rgba(0, 0, 0, 0.15);\n",
              "      filter: drop-shadow(0px 1px 2px rgba(0, 0, 0, 0.3));\n",
              "      fill: #FFFFFF;\n",
              "    }\n",
              "  </style>\n",
              "\n",
              "      <script>\n",
              "        const buttonEl =\n",
              "          document.querySelector('#df-40a0f04c-faa3-40f2-9ef8-0ef8f119daa4 button.colab-df-convert');\n",
              "        buttonEl.style.display =\n",
              "          google.colab.kernel.accessAllowed ? 'block' : 'none';\n",
              "\n",
              "        async function convertToInteractive(key) {\n",
              "          const element = document.querySelector('#df-40a0f04c-faa3-40f2-9ef8-0ef8f119daa4');\n",
              "          const dataTable =\n",
              "            await google.colab.kernel.invokeFunction('convertToInteractive',\n",
              "                                                     [key], {});\n",
              "          if (!dataTable) return;\n",
              "\n",
              "          const docLinkHtml = 'Like what you see? Visit the ' +\n",
              "            '<a target=\"_blank\" href=https://colab.research.google.com/notebooks/data_table.ipynb>data table notebook</a>'\n",
              "            + ' to learn more about interactive tables.';\n",
              "          element.innerHTML = '';\n",
              "          dataTable['output_type'] = 'display_data';\n",
              "          await google.colab.output.renderOutput(dataTable, element);\n",
              "          const docLink = document.createElement('div');\n",
              "          docLink.innerHTML = docLinkHtml;\n",
              "          element.appendChild(docLink);\n",
              "        }\n",
              "      </script>\n",
              "    </div>\n",
              "  </div>\n",
              "  "
            ]
          },
          "metadata": {},
          "execution_count": 173
        }
      ]
    },
    {
      "cell_type": "markdown",
      "source": [
        "## Splitting the Data\n",
        "\n",
        "This is one of the most Important step to perform Machine Learning Prediction "
      ],
      "metadata": {
        "id": "j7KD8e-vU5HV"
      }
    },
    {
      "cell_type": "code",
      "source": [
        "# lets split the target data from the train data\n",
        "\n",
        "y = train['is_promoted']\n",
        "x = train.drop(['is_promoted'], axis = 1)\n",
        "x_test = test\n",
        "\n",
        "# lets print the shapes of these newly formed data sets\n",
        "print(\"Shape of the x :\", x.shape)\n",
        "print(\"Shape of the y :\", y.shape)\n",
        "print(\"Shape of the x Test :\", x_test.shape)"
      ],
      "metadata": {
        "execution": {
          "iopub.status.busy": "2021-09-24T13:21:13.827631Z",
          "iopub.status.idle": "2021-09-24T13:21:13.827973Z",
          "shell.execute_reply.started": "2021-09-24T13:21:13.827787Z",
          "shell.execute_reply": "2021-09-24T13:21:13.82781Z"
        },
        "trusted": true,
        "colab": {
          "base_uri": "https://localhost:8080/"
        },
        "id": "UmOEQhfZU5HV",
        "outputId": "f6f8b026-4506-4d83-e365-858707393b11"
      },
      "execution_count": null,
      "outputs": [
        {
          "output_type": "stream",
          "name": "stdout",
          "text": [
            "Shape of the x : (3489, 9)\n",
            "Shape of the y : (3489,)\n",
            "Shape of the x Test : (23490, 9)\n"
          ]
        }
      ]
    },
    {
      "cell_type": "markdown",
      "source": [
        "## Resampling\n",
        "\n",
        "\n"
      ],
      "metadata": {
        "id": "soN544ktU5HV"
      }
    },
    {
      "cell_type": "code",
      "source": [
        "# It is very important to resample the data, as the Target class is Highly imbalanced.\n",
        "# Here We are going to use Over Sampling Technique to resample the data.\n",
        "\n",
        "\n",
        "from imblearn.over_sampling import SMOTE\n",
        "\n",
        "\n",
        "x_resample, y_resample  = SMOTE().fit_resample(x, y.values.ravel())\n",
        "\n",
        "# lets print the shape of x and y after resampling it\n",
        "print(x_resample.shape)\n",
        "print(y_resample.shape)"
      ],
      "metadata": {
        "execution": {
          "iopub.status.busy": "2021-09-24T13:21:13.82951Z",
          "iopub.status.idle": "2021-09-24T13:21:13.829866Z",
          "shell.execute_reply.started": "2021-09-24T13:21:13.829672Z",
          "shell.execute_reply": "2021-09-24T13:21:13.829695Z"
        },
        "trusted": true,
        "colab": {
          "base_uri": "https://localhost:8080/"
        },
        "id": "KHZLQq9oU5HW",
        "outputId": "9d16196f-a662-4b16-e77d-ce20d366c5a4"
      },
      "execution_count": null,
      "outputs": [
        {
          "output_type": "stream",
          "name": "stdout",
          "text": [
            "(6510, 9)\n",
            "(6510,)\n"
          ]
        }
      ]
    },
    {
      "cell_type": "code",
      "source": [
        "# lets also check the value counts of our target variable4\n",
        "\n",
        "print(\"Before Resampling :\")\n",
        "print(y.value_counts())\n",
        "\n",
        "print(\"After Resampling :\")\n",
        "y_resample = pd.DataFrame(y_resample)\n",
        "print(y_resample[0].value_counts())"
      ],
      "metadata": {
        "execution": {
          "iopub.status.busy": "2021-09-24T13:21:13.831181Z",
          "iopub.status.idle": "2021-09-24T13:21:13.83175Z",
          "shell.execute_reply.started": "2021-09-24T13:21:13.831432Z",
          "shell.execute_reply": "2021-09-24T13:21:13.831457Z"
        },
        "trusted": true,
        "colab": {
          "base_uri": "https://localhost:8080/"
        },
        "id": "1NW-d0lxU5HW",
        "outputId": "e3dfe08b-c0f1-4999-f4cc-555f1ebdd9ef"
      },
      "execution_count": null,
      "outputs": [
        {
          "output_type": "stream",
          "name": "stdout",
          "text": [
            "Before Resampling :\n",
            "0    3255\n",
            "1     234\n",
            "Name: is_promoted, dtype: int64\n",
            "After Resampling :\n",
            "0    3255\n",
            "1    3255\n",
            "Name: 0, dtype: int64\n"
          ]
        }
      ]
    },
    {
      "cell_type": "code",
      "source": [
        "\n",
        "\n",
        "from sklearn.model_selection import train_test_split\n",
        "\n",
        "x_train, x_valid, y_train, y_valid = train_test_split(x_resample, y_resample, test_size = 0.2, random_state = 0)\n",
        "\n",
        "# lets print the shapes again \n",
        "print(\"Shape of the x Train :\", x_train.shape)\n",
        "print(\"Shape of the y Train :\", y_train.shape)\n",
        "print(\"Shape of the x Valid :\", x_valid.shape)\n",
        "print(\"Shape of the y Valid :\", y_valid.shape)\n",
        "print(\"Shape of the x Test :\", x_test.shape)"
      ],
      "metadata": {
        "execution": {
          "iopub.status.busy": "2021-09-24T13:21:13.833015Z",
          "iopub.status.idle": "2021-09-24T13:21:13.833526Z",
          "shell.execute_reply.started": "2021-09-24T13:21:13.833235Z",
          "shell.execute_reply": "2021-09-24T13:21:13.833259Z"
        },
        "trusted": true,
        "colab": {
          "base_uri": "https://localhost:8080/"
        },
        "id": "Ng3oWIc1U5HW",
        "outputId": "125b91fb-eb50-4bf7-d379-9611b66b4c87"
      },
      "execution_count": null,
      "outputs": [
        {
          "output_type": "stream",
          "name": "stdout",
          "text": [
            "Shape of the x Train : (5208, 9)\n",
            "Shape of the y Train : (5208, 1)\n",
            "Shape of the x Valid : (1302, 9)\n",
            "Shape of the y Valid : (1302, 1)\n",
            "Shape of the x Test : (23490, 9)\n"
          ]
        }
      ]
    },
    {
      "cell_type": "markdown",
      "source": [
        "## Feature Scaling\n",
        "\n",
        "\n"
      ],
      "metadata": {
        "id": "cUkPpGO6U5HX"
      }
    },
    {
      "cell_type": "code",
      "source": [
        "\n",
        "from sklearn.preprocessing import StandardScaler\n",
        "\n",
        "sc = StandardScaler()\n",
        "x_train = sc.fit_transform(x_train)\n",
        "x_valid = sc.transform(x_valid)\n",
        "x_test = sc.transform(x_test)"
      ],
      "metadata": {
        "execution": {
          "iopub.status.busy": "2021-09-24T13:21:13.837699Z",
          "iopub.status.idle": "2021-09-24T13:21:13.838112Z",
          "shell.execute_reply.started": "2021-09-24T13:21:13.837892Z",
          "shell.execute_reply": "2021-09-24T13:21:13.837922Z"
        },
        "trusted": true,
        "id": "e9PwjhseU5HZ"
      },
      "execution_count": null,
      "outputs": []
    },
    {
      "cell_type": "markdown",
      "source": [
        "\n",
        "##  Machine Learning Predictive Modelling\n",
        "\n"
      ],
      "metadata": {
        "id": "1eZ3wJc1U5Ha"
      }
    },
    {
      "cell_type": "markdown",
      "source": [
        "\n",
        "\n",
        "### Decision Tree Classifier\n",
        "\n"
      ],
      "metadata": {
        "id": "GAv-rJGWU5Ha"
      }
    },
    {
      "cell_type": "code",
      "source": [
        "# Lets use Decision Trees to classify the data\n",
        "from sklearn.tree import DecisionTreeClassifier\n",
        "\n",
        "model = DecisionTreeClassifier()\n",
        "model.fit(x_train, y_train)\n",
        "\n",
        "y_pred = model.predict(x_valid)"
      ],
      "metadata": {
        "execution": {
          "iopub.status.busy": "2021-09-24T13:21:13.839351Z",
          "iopub.status.idle": "2021-09-24T13:21:13.83973Z",
          "shell.execute_reply.started": "2021-09-24T13:21:13.839537Z",
          "shell.execute_reply": "2021-09-24T13:21:13.839559Z"
        },
        "trusted": true,
        "id": "Dhq46qzkU5Ha"
      },
      "execution_count": null,
      "outputs": []
    },
    {
      "cell_type": "code",
      "source": [],
      "metadata": {
        "id": "1GJ7pzqJm3jr"
      },
      "execution_count": null,
      "outputs": []
    },
    {
      "cell_type": "code",
      "source": [
        "from sklearn.metrics import confusion_matrix, classification_report\n",
        "\n",
        "print(\"Training Accuracy :\", model.score(x_train, y_train))\n",
        "print(\"Testing Accuracy :\", model.score(x_valid, y_valid))\n",
        "\n",
        "cm = confusion_matrix(y_valid, y_pred)\n",
        "plt.rcParams['figure.figsize'] = (3, 3)\n",
        "sns.heatmap(cm, annot = True, cmap = 'Wistia', fmt = '.8g')\n",
        "plt.xlabel('Predicted Values')\n",
        "plt.ylabel('Actual Values')\n",
        "plt.show()"
      ],
      "metadata": {
        "execution": {
          "iopub.status.busy": "2021-09-24T13:21:13.840621Z",
          "iopub.status.idle": "2021-09-24T13:21:13.840968Z",
          "shell.execute_reply.started": "2021-09-24T13:21:13.840774Z",
          "shell.execute_reply": "2021-09-24T13:21:13.840797Z"
        },
        "trusted": true,
        "colab": {
          "base_uri": "https://localhost:8080/",
          "height": 367
        },
        "id": "1Z-THlReU5Ha",
        "outputId": "d1fd4ff6-9a4a-4a52-d419-cea6d0bdf45e"
      },
      "execution_count": null,
      "outputs": [
        {
          "output_type": "stream",
          "name": "stdout",
          "text": [
            "Training Accuracy : 0.9976958525345622\n",
            "Testing Accuracy : 0.9439324116743472\n"
          ]
        },
        {
          "output_type": "display_data",
          "data": {
            "text/plain": [
              "<Figure size 300x300 with 2 Axes>"
            ],
            "image/png": "[encoded data removed]"
          },
          "metadata": {}
        }
      ]
    },
    {
      "cell_type": "code",
      "source": [
        "# lets take a look at the Classification Report\n",
        "\n",
        "cr = classification_report(y_valid, y_pred)\n",
        "print(cr)"
      ],
      "metadata": {
        "execution": {
          "iopub.status.busy": "2021-09-24T13:21:13.841998Z",
          "iopub.status.idle": "2021-09-24T13:21:13.842362Z",
          "shell.execute_reply.started": "2021-09-24T13:21:13.842153Z",
          "shell.execute_reply": "2021-09-24T13:21:13.842175Z"
        },
        "trusted": true,
        "colab": {
          "base_uri": "https://localhost:8080/"
        },
        "id": "Uc_2heoEU5Hb",
        "outputId": "a5050b0a-16df-4e21-f2f5-5fd16d92dcad"
      },
      "execution_count": null,
      "outputs": [
        {
          "output_type": "stream",
          "name": "stdout",
          "text": [
            "              precision    recall  f1-score   support\n",
            "\n",
            "           0       0.96      0.91      0.93       657\n",
            "           1       0.91      0.96      0.93       645\n",
            "\n",
            "    accuracy                           0.93      1302\n",
            "   macro avg       0.93      0.93      0.93      1302\n",
            "weighted avg       0.94      0.93      0.93      1302\n",
            "\n"
          ]
        }
      ]
    },
    {
      "cell_type": "markdown",
      "source": [
        "## Real Time Prediction"
      ],
      "metadata": {
        "id": "yhf17m2-U5Hb"
      }
    },
    {
      "cell_type": "code",
      "source": [
        "train.describe()"
      ],
      "metadata": {
        "execution": {
          "iopub.status.busy": "2021-09-24T13:21:13.843571Z",
          "iopub.status.idle": "2021-09-24T13:21:13.843907Z",
          "shell.execute_reply.started": "2021-09-24T13:21:13.843729Z",
          "shell.execute_reply": "2021-09-24T13:21:13.843751Z"
        },
        "trusted": true,
        "colab": {
          "base_uri": "https://localhost:8080/",
          "height": 344
        },
        "id": "PYP5Yb-SU5Hb",
        "outputId": "88204032-84d2-41d0-9741-7fe6db861871"
      },
      "execution_count": null,
      "outputs": [
        {
          "output_type": "execute_result",
          "data": {
            "text/plain": [
              "        department    education       gender  no_of_trainings          age  \\\n",
              "count  3489.000000  3489.000000  3489.000000      3489.000000  3489.000000   \n",
              "mean      5.381198     2.504156     0.697334         1.168243    49.145027   \n",
              "std       2.125439     0.500054     0.459478         0.506902     5.423166   \n",
              "min       0.000000     2.000000     0.000000         1.000000    37.000000   \n",
              "25%       4.000000     2.000000     0.000000         1.000000    45.000000   \n",
              "50%       5.000000     3.000000     1.000000         1.000000    48.000000   \n",
              "75%       7.000000     3.000000     1.000000         1.000000    53.000000   \n",
              "max       8.000000     3.000000     1.000000         7.000000    60.000000   \n",
              "\n",
              "       previous_year_rating  length_of_service  awards_won?  \\\n",
              "count           3489.000000        3489.000000  3489.000000   \n",
              "mean               3.302379          17.629120     0.008598   \n",
              "std                1.230116           3.712584     0.092342   \n",
              "min                1.000000          14.000000     0.000000   \n",
              "25%                3.000000          15.000000     0.000000   \n",
              "50%                3.000000          17.000000     0.000000   \n",
              "75%                4.000000          19.000000     0.000000   \n",
              "max                5.000000          37.000000     1.000000   \n",
              "\n",
              "       avg_training_score  is_promoted  \n",
              "count         3489.000000  3489.000000  \n",
              "mean            62.071081     0.067068  \n",
              "std             12.285130     0.250175  \n",
              "min             40.000000     0.000000  \n",
              "25%             51.000000     0.000000  \n",
              "50%             60.000000     0.000000  \n",
              "75%             71.000000     0.000000  \n",
              "max             99.000000     1.000000  "
            ],
            "text/html": [
              "\n",
              "  <div id=\"df-49b2c926-77a1-4bf1-8450-87f0999c1a48\">\n",
              "    <div class=\"colab-df-container\">\n",
              "      <div>\n",
              "<style scoped>\n",
              "    .dataframe tbody tr th:only-of-type {\n",
              "        vertical-align: middle;\n",
              "    }\n",
              "\n",
              "    .dataframe tbody tr th {\n",
              "        vertical-align: top;\n",
              "    }\n",
              "\n",
              "    .dataframe thead th {\n",
              "        text-align: right;\n",
              "    }\n",
              "</style>\n",
              "<table border=\"1\" class=\"dataframe\">\n",
              "  <thead>\n",
              "    <tr style=\"text-align: right;\">\n",
              "      <th></th>\n",
              "      <th>department</th>\n",
              "      <th>education</th>\n",
              "      <th>gender</th>\n",
              "      <th>no_of_trainings</th>\n",
              "      <th>age</th>\n",
              "      <th>previous_year_rating</th>\n",
              "      <th>length_of_service</th>\n",
              "      <th>awards_won?</th>\n",
              "      <th>avg_training_score</th>\n",
              "      <th>is_promoted</th>\n",
              "    </tr>\n",
              "  </thead>\n",
              "  <tbody>\n",
              "    <tr>\n",
              "      <th>count</th>\n",
              "      <td>3489.000000</td>\n",
              "      <td>3489.000000</td>\n",
              "      <td>3489.000000</td>\n",
              "      <td>3489.000000</td>\n",
              "      <td>3489.000000</td>\n",
              "      <td>3489.000000</td>\n",
              "      <td>3489.000000</td>\n",
              "      <td>3489.000000</td>\n",
              "      <td>3489.000000</td>\n",
              "      <td>3489.000000</td>\n",
              "    </tr>\n",
              "    <tr>\n",
              "      <th>mean</th>\n",
              "      <td>5.381198</td>\n",
              "      <td>2.504156</td>\n",
              "      <td>0.697334</td>\n",
              "      <td>1.168243</td>\n",
              "      <td>49.145027</td>\n",
              "      <td>3.302379</td>\n",
              "      <td>17.629120</td>\n",
              "      <td>0.008598</td>\n",
              "      <td>62.071081</td>\n",
              "      <td>0.067068</td>\n",
              "    </tr>\n",
              "    <tr>\n",
              "      <th>std</th>\n",
              "      <td>2.125439</td>\n",
              "      <td>0.500054</td>\n",
              "      <td>0.459478</td>\n",
              "      <td>0.506902</td>\n",
              "      <td>5.423166</td>\n",
              "      <td>1.230116</td>\n",
              "      <td>3.712584</td>\n",
              "      <td>0.092342</td>\n",
              "      <td>12.285130</td>\n",
              "      <td>0.250175</td>\n",
              "    </tr>\n",
              "    <tr>\n",
              "      <th>min</th>\n",
              "      <td>0.000000</td>\n",
              "      <td>2.000000</td>\n",
              "      <td>0.000000</td>\n",
              "      <td>1.000000</td>\n",
              "      <td>37.000000</td>\n",
              "      <td>1.000000</td>\n",
              "      <td>14.000000</td>\n",
              "      <td>0.000000</td>\n",
              "      <td>40.000000</td>\n",
              "      <td>0.000000</td>\n",
              "    </tr>\n",
              "    <tr>\n",
              "      <th>25%</th>\n",
              "      <td>4.000000</td>\n",
              "      <td>2.000000</td>\n",
              "      <td>0.000000</td>\n",
              "      <td>1.000000</td>\n",
              "      <td>45.000000</td>\n",
              "      <td>3.000000</td>\n",
              "      <td>15.000000</td>\n",
              "      <td>0.000000</td>\n",
              "      <td>51.000000</td>\n",
              "      <td>0.000000</td>\n",
              "    </tr>\n",
              "    <tr>\n",
              "      <th>50%</th>\n",
              "      <td>5.000000</td>\n",
              "      <td>3.000000</td>\n",
              "      <td>1.000000</td>\n",
              "      <td>1.000000</td>\n",
              "      <td>48.000000</td>\n",
              "      <td>3.000000</td>\n",
              "      <td>17.000000</td>\n",
              "      <td>0.000000</td>\n",
              "      <td>60.000000</td>\n",
              "      <td>0.000000</td>\n",
              "    </tr>\n",
              "    <tr>\n",
              "      <th>75%</th>\n",
              "      <td>7.000000</td>\n",
              "      <td>3.000000</td>\n",
              "      <td>1.000000</td>\n",
              "      <td>1.000000</td>\n",
              "      <td>53.000000</td>\n",
              "      <td>4.000000</td>\n",
              "      <td>19.000000</td>\n",
              "      <td>0.000000</td>\n",
              "      <td>71.000000</td>\n",
              "      <td>0.000000</td>\n",
              "    </tr>\n",
              "    <tr>\n",
              "      <th>max</th>\n",
              "      <td>8.000000</td>\n",
              "      <td>3.000000</td>\n",
              "      <td>1.000000</td>\n",
              "      <td>7.000000</td>\n",
              "      <td>60.000000</td>\n",
              "      <td>5.000000</td>\n",
              "      <td>37.000000</td>\n",
              "      <td>1.000000</td>\n",
              "      <td>99.000000</td>\n",
              "      <td>1.000000</td>\n",
              "    </tr>\n",
              "  </tbody>\n",
              "</table>\n",
              "</div>\n",
              "      <button class=\"colab-df-convert\" onclick=\"convertToInteractive('df-49b2c926-77a1-4bf1-8450-87f0999c1a48')\"\n",
              "              title=\"Convert this dataframe to an interactive table.\"\n",
              "              style=\"display:none;\">\n",
              "        \n",
              "  <svg xmlns=\"http://www.w3.org/2000/svg\" height=\"24px\"viewBox=\"0 0 24 24\"\n",
              "       width=\"24px\">\n",
              "    <path d=\"M0 0h24v24H0V0z\" fill=\"none\"/>\n",
              "    <path d=\"M18.56 5.44l.94 2.06.94-2.06 2.06-.94-2.06-.94-.94-2.06-.94 2.06-2.06.94zm-11 1L8.5 8.5l.94-2.06 2.06-.94-2.06-.94L8.5 2.5l-.94 2.06-2.06.94zm10 10l.94 2.06.94-2.06 2.06-.94-2.06-.94-.94-2.06-.94 2.06-2.06.94z\"/><path d=\"M17.41 7.96l-1.37-1.37c-.4-.4-.92-.59-1.43-.59-.52 0-1.04.2-1.43.59L10.3 9.45l-7.72 7.72c-.78.78-.78 2.05 0 2.83L4 21.41c.39.39.9.59 1.41.59.51 0 1.02-.2 1.41-.59l7.78-7.78 2.81-2.81c.8-.78.8-2.07 0-2.86zM5.41 20L4 18.59l7.72-7.72 1.47 1.35L5.41 20z\"/>\n",
              "  </svg>\n",
              "      </button>\n",
              "      \n",
              "  <style>\n",
              "    .colab-df-container {\n",
              "      display:flex;\n",
              "      flex-wrap:wrap;\n",
              "      gap: 12px;\n",
              "    }\n",
              "\n",
              "    .colab-df-convert {\n",
              "      background-color: #E8F0FE;\n",
              "      border: none;\n",
              "      border-radius: 50%;\n",
              "      cursor: pointer;\n",
              "      display: none;\n",
              "      fill: #1967D2;\n",
              "      height: 32px;\n",
              "      padding: 0 0 0 0;\n",
              "      width: 32px;\n",
              "    }\n",
              "\n",
              "    .colab-df-convert:hover {\n",
              "      background-color: #E2EBFA;\n",
              "      box-shadow: 0px 1px 2px rgba(60, 64, 67, 0.3), 0px 1px 3px 1px rgba(60, 64, 67, 0.15);\n",
              "      fill: #174EA6;\n",
              "    }\n",
              "\n",
              "    [theme=dark] .colab-df-convert {\n",
              "      background-color: #3B4455;\n",
              "      fill: #D2E3FC;\n",
              "    }\n",
              "\n",
              "    [theme=dark] .colab-df-convert:hover {\n",
              "      background-color: #434B5C;\n",
              "      box-shadow: 0px 1px 3px 1px rgba(0, 0, 0, 0.15);\n",
              "      filter: drop-shadow(0px 1px 2px rgba(0, 0, 0, 0.3));\n",
              "      fill: #FFFFFF;\n",
              "    }\n",
              "  </style>\n",
              "\n",
              "      <script>\n",
              "        const buttonEl =\n",
              "          document.querySelector('#df-49b2c926-77a1-4bf1-8450-87f0999c1a48 button.colab-df-convert');\n",
              "        buttonEl.style.display =\n",
              "          google.colab.kernel.accessAllowed ? 'block' : 'none';\n",
              "\n",
              "        async function convertToInteractive(key) {\n",
              "          const element = document.querySelector('#df-49b2c926-77a1-4bf1-8450-87f0999c1a48');\n",
              "          const dataTable =\n",
              "            await google.colab.kernel.invokeFunction('convertToInteractive',\n",
              "                                                     [key], {});\n",
              "          if (!dataTable) return;\n",
              "\n",
              "          const docLinkHtml = 'Like what you see? Visit the ' +\n",
              "            '<a target=\"_blank\" href=https://colab.research.google.com/notebooks/data_table.ipynb>data table notebook</a>'\n",
              "            + ' to learn more about interactive tables.';\n",
              "          element.innerHTML = '';\n",
              "          dataTable['output_type'] = 'display_data';\n",
              "          await google.colab.output.renderOutput(dataTable, element);\n",
              "          const docLink = document.createElement('div');\n",
              "          docLink.innerHTML = docLinkHtml;\n",
              "          element.appendChild(docLink);\n",
              "        }\n",
              "      </script>\n",
              "    </div>\n",
              "  </div>\n",
              "  "
            ]
          },
          "metadata": {},
          "execution_count": 120
        }
      ]
    },
    {
      "cell_type": "markdown",
      "source": [
        "** predicted results :  whether an employee of software company should get a promotion or not using Logistic Regression and Decision Trees.**\n",
        "\n",
        "\n",
        "\n",
        "\n",
        "\n"
      ],
      "metadata": {
        "id": "KXG-vGLrU5Hc"
      }
    },
    {
      "cell_type": "markdown",
      "source": [
        "## Q1. Does Older Employees getting more Promotion than Younger Employees?"
      ],
      "metadata": {
        "id": "XPsQtRFEU5Hd"
      }
    },
    {
      "cell_type": "code",
      "source": [
        "max_age = train['age'].max()\n",
        "min_age = train['age'].min()\n",
        "print('Minimum age is {} and Maximum age is  {}'.format(min_age, max_age))"
      ],
      "metadata": {
        "execution": {
          "iopub.status.busy": "2021-09-24T13:21:13.846675Z",
          "iopub.status.idle": "2021-09-24T13:21:13.847051Z",
          "shell.execute_reply.started": "2021-09-24T13:21:13.846834Z",
          "shell.execute_reply": "2021-09-24T13:21:13.846857Z"
        },
        "trusted": true,
        "colab": {
          "base_uri": "https://localhost:8080/"
        },
        "id": "A6ds5sw0U5Hd",
        "outputId": "9fbd0146-e247-4334-93d0-0e3f86c30c5b"
      },
      "execution_count": null,
      "outputs": [
        {
          "output_type": "stream",
          "name": "stdout",
          "text": [
            "Minimum age is 37 and Maximum age is  60\n"
          ]
        }
      ]
    },
    {
      "cell_type": "code",
      "source": [
        "# lets consider all the employees under 30 as young and otherwise as old\n",
        "\n",
        "young_employees = train[train['age'] <= 30]\n",
        "old_employees = train[train['age'] > 30]"
      ],
      "metadata": {
        "execution": {
          "iopub.status.busy": "2021-09-24T13:21:13.849009Z",
          "iopub.status.idle": "2021-09-24T13:21:13.849391Z",
          "shell.execute_reply.started": "2021-09-24T13:21:13.849182Z",
          "shell.execute_reply": "2021-09-24T13:21:13.849207Z"
        },
        "trusted": true,
        "id": "06krqH7XU5Hd"
      },
      "execution_count": null,
      "outputs": []
    },
    {
      "cell_type": "code",
      "source": [
        "# Now Lets check the Percentage of Employees getting Promotion from Young and Old Group of Employees.\n",
        "\n",
        "young_employees['is_promoted'].value_counts()"
      ],
      "metadata": {
        "execution": {
          "iopub.status.busy": "2021-09-24T13:21:13.850224Z",
          "iopub.status.idle": "2021-09-24T13:21:13.8506Z",
          "shell.execute_reply.started": "2021-09-24T13:21:13.850414Z",
          "shell.execute_reply": "2021-09-24T13:21:13.850438Z"
        },
        "trusted": true,
        "colab": {
          "base_uri": "https://localhost:8080/"
        },
        "id": "M1nIIp37U5Hd",
        "outputId": "537c03b5-38da-4262-b846-f3abd4c08133"
      },
      "execution_count": null,
      "outputs": [
        {
          "output_type": "execute_result",
          "data": {
            "text/plain": [
              "Series([], Name: is_promoted, dtype: int64)"
            ]
          },
          "metadata": {},
          "execution_count": 129
        }
      ]
    },
    {
      "cell_type": "code",
      "source": [
        "# Now Lets check the Percentage of Employees getting Promotion from Young and Old Group of Employees.\n",
        "\n",
        "old_employees['is_promoted'].value_counts()"
      ],
      "metadata": {
        "execution": {
          "iopub.status.busy": "2021-09-24T13:21:13.851869Z",
          "iopub.status.idle": "2021-09-24T13:21:13.852248Z",
          "shell.execute_reply.started": "2021-09-24T13:21:13.85206Z",
          "shell.execute_reply": "2021-09-24T13:21:13.852084Z"
        },
        "trusted": true,
        "colab": {
          "base_uri": "https://localhost:8080/"
        },
        "id": "t1TZxkAfU5Hd",
        "outputId": "4d06d0c0-a875-47a3-c033-25c86577d604"
      },
      "execution_count": null,
      "outputs": [
        {
          "output_type": "execute_result",
          "data": {
            "text/plain": [
              "0    3255\n",
              "1     234\n",
              "Name: is_promoted, dtype: int64"
            ]
          },
          "metadata": {},
          "execution_count": 130
        }
      ]
    },
    {
      "cell_type": "code",
      "source": [
        "perc_young = 3909/(40237+3909)  # young_employees[young_employees['is_promorted'] == 1]/young_employees.shape[0]\n",
        "perc_old = 759/(9909+759)\n",
        "\n",
        "print(perc_young, perc_old)"
      ],
      "metadata": {
        "execution": {
          "iopub.status.busy": "2021-09-24T13:21:13.854726Z",
          "iopub.status.idle": "2021-09-24T13:21:13.855089Z",
          "shell.execute_reply.started": "2021-09-24T13:21:13.854898Z",
          "shell.execute_reply": "2021-09-24T13:21:13.85492Z"
        },
        "trusted": true,
        "colab": {
          "base_uri": "https://localhost:8080/"
        },
        "id": "2q9yEMIEU5He",
        "outputId": "b985ff64-1b47-4927-dd86-b72cb6c47cd8"
      },
      "execution_count": null,
      "outputs": [
        {
          "output_type": "stream",
          "name": "stdout",
          "text": [
            "0.08854709373442668 0.07114735658042745\n"
          ]
        }
      ]
    },
    {
      "cell_type": "markdown",
      "source": [
        "### Q2. What is the Probability to get Promoted, If an employeed has won an award?"
      ],
      "metadata": {
        "id": "T3J458FzU5He"
      }
    },
    {
      "cell_type": "code",
      "source": [
        "# lets check the count of employees who got promotion \n",
        "\n",
        "award_wining_employees = train[train['awards_won?'] == 1]\n",
        "award_wining_employees['is_promoted'].value_counts()"
      ],
      "metadata": {
        "execution": {
          "iopub.status.busy": "2021-09-24T13:21:13.856834Z",
          "iopub.status.idle": "2021-09-24T13:21:13.857198Z",
          "shell.execute_reply.started": "2021-09-24T13:21:13.857005Z",
          "shell.execute_reply": "2021-09-24T13:21:13.857021Z"
        },
        "trusted": true,
        "colab": {
          "base_uri": "https://localhost:8080/"
        },
        "id": "SACkdFONU5He",
        "outputId": "f78d6504-0c13-4893-cc6e-8e70ad54b89e"
      },
      "execution_count": null,
      "outputs": [
        {
          "output_type": "execute_result",
          "data": {
            "text/plain": [
              "0    17\n",
              "1    13\n",
              "Name: is_promoted, dtype: int64"
            ]
          },
          "metadata": {},
          "execution_count": 132
        }
      ]
    },
    {
      "cell_type": "code",
      "source": [
        "# let check the Probability of the employees getting promoted after wining an award\n",
        "\n",
        "# probability = award_wining_employees[award_wining_employees['is_promoted'] == 1].shape[0]/data.shape[0]\n",
        "probability = 559/(559+711)\n",
        "print(\"The Probability of an Employee to get Promotion is : {0:.2f}%\".format(probability*100))"
      ],
      "metadata": {
        "execution": {
          "iopub.status.busy": "2021-09-24T13:21:13.858431Z",
          "iopub.status.idle": "2021-09-24T13:21:13.858772Z",
          "shell.execute_reply.started": "2021-09-24T13:21:13.858602Z",
          "shell.execute_reply": "2021-09-24T13:21:13.858618Z"
        },
        "trusted": true,
        "colab": {
          "base_uri": "https://localhost:8080/"
        },
        "id": "VMm22PP8U5Hf",
        "outputId": "5abca52e-b4ac-426d-d5b5-8f53d341c2af"
      },
      "execution_count": null,
      "outputs": [
        {
          "output_type": "stream",
          "name": "stdout",
          "text": [
            "The Probability of an Employee to get Promotion is : 44.02%\n"
          ]
        }
      ]
    },
    {
      "cell_type": "code",
      "source": [
        "award_wining_employees = train[train['awards_won?'] == 0]\n",
        "award_wining_employees['is_promoted'].value_counts()"
      ],
      "metadata": {
        "execution": {
          "iopub.status.busy": "2021-09-24T13:21:13.859746Z",
          "iopub.status.idle": "2021-09-24T13:21:13.860105Z",
          "shell.execute_reply.started": "2021-09-24T13:21:13.859912Z",
          "shell.execute_reply": "2021-09-24T13:21:13.859927Z"
        },
        "trusted": true,
        "colab": {
          "base_uri": "https://localhost:8080/"
        },
        "id": "al1wfo4qU5Hf",
        "outputId": "eb225f9c-c276-41ea-d3a6-d764223ca691"
      },
      "execution_count": null,
      "outputs": [
        {
          "output_type": "execute_result",
          "data": {
            "text/plain": [
              "0    3238\n",
              "1     221\n",
              "Name: is_promoted, dtype: int64"
            ]
          },
          "metadata": {},
          "execution_count": 134
        }
      ]
    },
    {
      "cell_type": "code",
      "source": [
        "x = 4109/(4109+49429)\n",
        "x"
      ],
      "metadata": {
        "execution": {
          "iopub.status.busy": "2021-09-24T13:21:13.861027Z",
          "iopub.status.idle": "2021-09-24T13:21:13.861397Z",
          "shell.execute_reply.started": "2021-09-24T13:21:13.861175Z",
          "shell.execute_reply": "2021-09-24T13:21:13.861191Z"
        },
        "trusted": true,
        "id": "wRpbCX74U5Hf"
      },
      "execution_count": null,
      "outputs": []
    },
    {
      "cell_type": "markdown",
      "source": [
        "## Q3. What is the Average Training Score of those Employees who got Promotion?"
      ],
      "metadata": {
        "id": "YT4NBmASU5Hf"
      }
    },
    {
      "cell_type": "code",
      "source": [
        "promoted_employees = train[train['is_promoted'] == 1]\n",
        "avg_training_score_promoted_emp = promoted_employees['avg_training_score'].mean()\n",
        "print(\"The Average Training Score for the Employees who got Promotion is {0:.0f}\".format(avg_training_score_promoted_emp))"
      ],
      "metadata": {
        "execution": {
          "iopub.status.busy": "2021-09-24T13:21:13.862578Z",
          "iopub.status.idle": "2021-09-24T13:21:13.862906Z",
          "shell.execute_reply.started": "2021-09-24T13:21:13.862728Z",
          "shell.execute_reply": "2021-09-24T13:21:13.862744Z"
        },
        "trusted": true,
        "colab": {
          "base_uri": "https://localhost:8080/"
        },
        "id": "l45OUoPXU5Hg",
        "outputId": "bd4629b3-00d2-4c2b-db88-4b69c3cedf70"
      },
      "execution_count": null,
      "outputs": [
        {
          "output_type": "stream",
          "name": "stdout",
          "text": [
            "The Average Training Score for the Employees who got Promotion is 71\n"
          ]
        }
      ]
    },
    {
      "cell_type": "markdown",
      "source": [
        "## Q4. What is the Impact of Gender in Promotions?"
      ],
      "metadata": {
        "id": "IePqSGUSU5Hg"
      }
    },
    {
      "cell_type": "code",
      "source": [
        "# lets check the gender gap in total employees\n",
        "\n",
        "train['gender'].value_counts()"
      ],
      "metadata": {
        "execution": {
          "iopub.status.busy": "2021-09-24T13:21:13.864536Z",
          "iopub.status.idle": "2021-09-24T13:21:13.864863Z",
          "shell.execute_reply.started": "2021-09-24T13:21:13.864692Z",
          "shell.execute_reply": "2021-09-24T13:21:13.864709Z"
        },
        "trusted": true,
        "colab": {
          "base_uri": "https://localhost:8080/"
        },
        "id": "moV9T2frU5Hg",
        "outputId": "fb5abbc0-5f9e-4210-9fe2-20ad4315714c"
      },
      "execution_count": null,
      "outputs": [
        {
          "output_type": "execute_result",
          "data": {
            "text/plain": [
              "1    2433\n",
              "0    1056\n",
              "Name: gender, dtype: int64"
            ]
          },
          "metadata": {},
          "execution_count": 136
        }
      ]
    },
    {
      "cell_type": "code",
      "source": [
        "# lets check the Gender Gap in Promotion\n",
        "\n",
        "promoted_employees['gender'].value_counts()"
      ],
      "metadata": {
        "execution": {
          "iopub.status.busy": "2021-09-24T13:21:13.866212Z",
          "iopub.status.idle": "2021-09-24T13:21:13.86658Z",
          "shell.execute_reply.started": "2021-09-24T13:21:13.866413Z",
          "shell.execute_reply": "2021-09-24T13:21:13.86643Z"
        },
        "trusted": true,
        "colab": {
          "base_uri": "https://localhost:8080/"
        },
        "id": "Hu2nKAdxU5Hg",
        "outputId": "936ba9b3-1da0-4bd3-cc70-1533856fb466"
      },
      "execution_count": null,
      "outputs": [
        {
          "output_type": "execute_result",
          "data": {
            "text/plain": [
              "1    170\n",
              "0     64\n",
              "Name: gender, dtype: int64"
            ]
          },
          "metadata": {},
          "execution_count": 137
        }
      ]
    },
    {
      "cell_type": "code",
      "source": [
        "m_prom = 3201/38496\n",
        "f_prom = 1467/16312\n",
        "print(m_prom, f_prom)"
      ],
      "metadata": {
        "execution": {
          "iopub.status.busy": "2021-09-24T13:21:13.867698Z",
          "iopub.status.idle": "2021-09-24T13:21:13.868054Z",
          "shell.execute_reply.started": "2021-09-24T13:21:13.867888Z",
          "shell.execute_reply": "2021-09-24T13:21:13.867905Z"
        },
        "trusted": true,
        "id": "-fvlhqRrU5Hh"
      },
      "execution_count": null,
      "outputs": []
    },
    {
      "cell_type": "markdown",
      "source": [
        "## Q5. What is the Probability of Freshers getting Promoted?"
      ],
      "metadata": {
        "id": "gr4WO29_U5Hh"
      }
    },
    {
      "cell_type": "code",
      "source": [
        "# lets consider the employees who have worked for less than equal to two years\n",
        "\n",
        "freshers = train[(train['length_of_service'] <= 2) & (train['age'] <= 30)]\n",
        "freshers['is_promoted'].value_counts()"
      ],
      "metadata": {
        "execution": {
          "iopub.status.busy": "2021-09-24T13:21:13.869611Z",
          "iopub.status.idle": "2021-09-24T13:21:13.869971Z",
          "shell.execute_reply.started": "2021-09-24T13:21:13.869768Z",
          "shell.execute_reply": "2021-09-24T13:21:13.869784Z"
        },
        "trusted": true,
        "colab": {
          "base_uri": "https://localhost:8080/"
        },
        "id": "s4AMcyb3U5Hh",
        "outputId": "f89bda0b-2a76-4dfd-cb5d-323285defe2d"
      },
      "execution_count": null,
      "outputs": [
        {
          "output_type": "execute_result",
          "data": {
            "text/plain": [
              "Series([], Name: is_promoted, dtype: int64)"
            ]
          },
          "metadata": {},
          "execution_count": 138
        }
      ]
    },
    {
      "cell_type": "code",
      "source": [
        "# lets check the Percentage also\n",
        "\n",
        "prob = 743/(8057+743)\n",
        "print(\"Probability of a Fresher being Promoted is {0:.2f}%\".format(prob*100))"
      ],
      "metadata": {
        "execution": {
          "iopub.status.busy": "2021-09-24T13:21:13.871141Z",
          "iopub.status.idle": "2021-09-24T13:21:13.871481Z",
          "shell.execute_reply.started": "2021-09-24T13:21:13.871308Z",
          "shell.execute_reply": "2021-09-24T13:21:13.871325Z"
        },
        "trusted": true,
        "colab": {
          "base_uri": "https://localhost:8080/"
        },
        "id": "asMX9WQyU5Hh",
        "outputId": "938d40f9-83b7-45d2-c96b-2ab858f4cd57"
      },
      "execution_count": null,
      "outputs": [
        {
          "output_type": "stream",
          "name": "stdout",
          "text": [
            "Probability of a Fresher being Promoted is 8.44%\n"
          ]
        }
      ]
    }
  ]
}